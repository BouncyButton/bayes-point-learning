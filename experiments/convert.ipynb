{
 "cells": [
  {
   "cell_type": "code",
   "execution_count": 2,
   "metadata": {
    "collapsed": true
   },
   "outputs": [],
   "source": [
    "# i got two files that i want to join, and also i prefer removing the field 'model' since it takes a lot of space\n",
    "import pandas as pd\n",
    "\n",
    "df1 = pd.read_pickle('newnew-fixed.pkl')\n",
    "df1 = df1.drop(columns=['model'])\n",
    "df2 = pd.read_pickle('hard.pkl')\n",
    "df2 = df2.drop(columns=['model'])\n",
    "\n",
    "# join the two dataframes; merge on all columns, prefer df2 values\n",
    "df = df1.merge(df2, how='outer', on=['dataset', 'method', 'strategy', 'encoding', 'seed'], suffixes=('-old', ''))\n",
    "\n"
   ]
  },
  {
   "cell_type": "code",
   "execution_count": 6,
   "outputs": [
    {
     "name": "stdout",
     "output_type": "stream",
     "text": [
      "        dataset  dataset_size-old encoding  seed strategy   method  \\\n",
      "0           TTT               0.5       av   0.0   single  Find-RS   \n",
      "1           TTT               0.5       av   0.0       bo  Find-RS   \n",
      "2           TTT               0.5       av   0.0       bp  Find-RS   \n",
      "3           TTT               0.5       av   0.0   best-k  Find-RS   \n",
      "4           TTT               0.5      ohe   0.0   single  Find-RS   \n",
      "...         ...               ...      ...   ...      ...      ...   \n",
      "5388  CONNECT-4               NaN       av   3.0   single      SVM   \n",
      "5389  CONNECT-4               NaN       av   3.0   single       RF   \n",
      "5390  CONNECT-4               NaN       av   3.0   single  Find-RS   \n",
      "5391  CONNECT-4               NaN       av   3.0       bo  Find-RS   \n",
      "5392  CONNECT-4               NaN       av   3.0       bp  Find-RS   \n",
      "\n",
      "      accuracy-old    f1-old  avg_rule_len-old  avg_ruleset_len-old  T-old  \\\n",
      "0          1.00000  1.000000          3.000000                  8.0  100.0   \n",
      "1          1.00000  1.000000          3.000000                  8.0  100.0   \n",
      "2          1.00000  1.000000          3.000000                  8.0  100.0   \n",
      "3          1.00000  1.000000          3.000000                  8.0  100.0   \n",
      "4          0.93737  0.951613         10.571429                 14.0  100.0   \n",
      "...            ...       ...               ...                  ...    ...   \n",
      "5388           NaN       NaN               NaN                  NaN    NaN   \n",
      "5389           NaN       NaN               NaN                  NaN    NaN   \n",
      "5390           NaN       NaN               NaN                  NaN    NaN   \n",
      "5391           NaN       NaN               NaN                  NaN    NaN   \n",
      "5392           NaN       NaN               NaN                  NaN    NaN   \n",
      "\n",
      "      dataset_size  accuracy        f1 avg_rule_len avg_ruleset_len     T  \n",
      "0              NaN       NaN       NaN          NaN             NaN   NaN  \n",
      "1              NaN       NaN       NaN          NaN             NaN   NaN  \n",
      "2              NaN       NaN       NaN          NaN             NaN   NaN  \n",
      "3              NaN       NaN       NaN          NaN             NaN   NaN  \n",
      "4              NaN       NaN       NaN          NaN             NaN   NaN  \n",
      "...            ...       ...       ...          ...             ...   ...  \n",
      "5388           0.5  0.886849  0.914927         None            None   1.0  \n",
      "5389           0.5  0.866244  0.901650         None            None   1.0  \n",
      "5390           0.5  0.800699  0.848712    34.587802            1902  20.0  \n",
      "5391           0.5  0.858251  0.891972    34.700937         1884.55  20.0  \n",
      "5392           0.5  0.860886  0.896349    34.649663           31778  20.0  \n",
      "\n",
      "[5393 rows x 17 columns]\n"
     ]
    }
   ],
   "source": [
    "print(df)"
   ],
   "metadata": {
    "collapsed": false
   }
  },
  {
   "cell_type": "code",
   "execution_count": 7,
   "outputs": [],
   "source": [
    "df['dataset_size'] = df['dataset_size-old'].fillna(df['dataset_size'])\n",
    "df['accuracy'] = df['accuracy-old'].fillna(df['accuracy'])\n",
    "df['f1'] = df['f1-old'].fillna(df['f1'])\n",
    "df['avg_rule_len'] = df['avg_rule_len-old'].fillna(df['avg_rule_len'])\n",
    "df['avg_ruleset_len'] = df['avg_ruleset_len-old'].fillna(df['avg_ruleset_len'])\n",
    "df['T'] = df['T-old'].fillna(df['T'])"
   ],
   "metadata": {
    "collapsed": false
   }
  },
  {
   "cell_type": "code",
   "execution_count": 8,
   "outputs": [
    {
     "data": {
      "text/plain": "        dataset  dataset_size-old encoding  seed strategy   method  \\\n0           TTT               0.5       av   0.0   single  Find-RS   \n1           TTT               0.5       av   0.0       bo  Find-RS   \n2           TTT               0.5       av   0.0       bp  Find-RS   \n3           TTT               0.5       av   0.0   best-k  Find-RS   \n4           TTT               0.5      ohe   0.0   single  Find-RS   \n...         ...               ...      ...   ...      ...      ...   \n5388  CONNECT-4               NaN       av   3.0   single      SVM   \n5389  CONNECT-4               NaN       av   3.0   single       RF   \n5390  CONNECT-4               NaN       av   3.0   single  Find-RS   \n5391  CONNECT-4               NaN       av   3.0       bo  Find-RS   \n5392  CONNECT-4               NaN       av   3.0       bp  Find-RS   \n\n      accuracy-old    f1-old  avg_rule_len-old  avg_ruleset_len-old  T-old  \\\n0          1.00000  1.000000          3.000000                  8.0  100.0   \n1          1.00000  1.000000          3.000000                  8.0  100.0   \n2          1.00000  1.000000          3.000000                  8.0  100.0   \n3          1.00000  1.000000          3.000000                  8.0  100.0   \n4          0.93737  0.951613         10.571429                 14.0  100.0   \n...            ...       ...               ...                  ...    ...   \n5388           NaN       NaN               NaN                  NaN    NaN   \n5389           NaN       NaN               NaN                  NaN    NaN   \n5390           NaN       NaN               NaN                  NaN    NaN   \n5391           NaN       NaN               NaN                  NaN    NaN   \n5392           NaN       NaN               NaN                  NaN    NaN   \n\n      dataset_size  accuracy        f1  avg_rule_len  avg_ruleset_len      T  \n0              0.5  1.000000  1.000000      3.000000             8.00  100.0  \n1              0.5  1.000000  1.000000      3.000000             8.00  100.0  \n2              0.5  1.000000  1.000000      3.000000             8.00  100.0  \n3              0.5  1.000000  1.000000      3.000000             8.00  100.0  \n4              0.5  0.937370  0.951613     10.571429            14.00  100.0  \n...            ...       ...       ...           ...              ...    ...  \n5388           0.5  0.886849  0.914927           NaN              NaN    1.0  \n5389           0.5  0.866244  0.901650           NaN              NaN    1.0  \n5390           0.5  0.800699  0.848712     34.587802          1902.00   20.0  \n5391           0.5  0.858251  0.891972     34.700937          1884.55   20.0  \n5392           0.5  0.860886  0.896349     34.649663         31778.00   20.0  \n\n[5393 rows x 17 columns]",
      "text/html": "<div>\n<style scoped>\n    .dataframe tbody tr th:only-of-type {\n        vertical-align: middle;\n    }\n\n    .dataframe tbody tr th {\n        vertical-align: top;\n    }\n\n    .dataframe thead th {\n        text-align: right;\n    }\n</style>\n<table border=\"1\" class=\"dataframe\">\n  <thead>\n    <tr style=\"text-align: right;\">\n      <th></th>\n      <th>dataset</th>\n      <th>dataset_size-old</th>\n      <th>encoding</th>\n      <th>seed</th>\n      <th>strategy</th>\n      <th>method</th>\n      <th>accuracy-old</th>\n      <th>f1-old</th>\n      <th>avg_rule_len-old</th>\n      <th>avg_ruleset_len-old</th>\n      <th>T-old</th>\n      <th>dataset_size</th>\n      <th>accuracy</th>\n      <th>f1</th>\n      <th>avg_rule_len</th>\n      <th>avg_ruleset_len</th>\n      <th>T</th>\n    </tr>\n  </thead>\n  <tbody>\n    <tr>\n      <th>0</th>\n      <td>TTT</td>\n      <td>0.5</td>\n      <td>av</td>\n      <td>0.0</td>\n      <td>single</td>\n      <td>Find-RS</td>\n      <td>1.00000</td>\n      <td>1.000000</td>\n      <td>3.000000</td>\n      <td>8.0</td>\n      <td>100.0</td>\n      <td>0.5</td>\n      <td>1.000000</td>\n      <td>1.000000</td>\n      <td>3.000000</td>\n      <td>8.00</td>\n      <td>100.0</td>\n    </tr>\n    <tr>\n      <th>1</th>\n      <td>TTT</td>\n      <td>0.5</td>\n      <td>av</td>\n      <td>0.0</td>\n      <td>bo</td>\n      <td>Find-RS</td>\n      <td>1.00000</td>\n      <td>1.000000</td>\n      <td>3.000000</td>\n      <td>8.0</td>\n      <td>100.0</td>\n      <td>0.5</td>\n      <td>1.000000</td>\n      <td>1.000000</td>\n      <td>3.000000</td>\n      <td>8.00</td>\n      <td>100.0</td>\n    </tr>\n    <tr>\n      <th>2</th>\n      <td>TTT</td>\n      <td>0.5</td>\n      <td>av</td>\n      <td>0.0</td>\n      <td>bp</td>\n      <td>Find-RS</td>\n      <td>1.00000</td>\n      <td>1.000000</td>\n      <td>3.000000</td>\n      <td>8.0</td>\n      <td>100.0</td>\n      <td>0.5</td>\n      <td>1.000000</td>\n      <td>1.000000</td>\n      <td>3.000000</td>\n      <td>8.00</td>\n      <td>100.0</td>\n    </tr>\n    <tr>\n      <th>3</th>\n      <td>TTT</td>\n      <td>0.5</td>\n      <td>av</td>\n      <td>0.0</td>\n      <td>best-k</td>\n      <td>Find-RS</td>\n      <td>1.00000</td>\n      <td>1.000000</td>\n      <td>3.000000</td>\n      <td>8.0</td>\n      <td>100.0</td>\n      <td>0.5</td>\n      <td>1.000000</td>\n      <td>1.000000</td>\n      <td>3.000000</td>\n      <td>8.00</td>\n      <td>100.0</td>\n    </tr>\n    <tr>\n      <th>4</th>\n      <td>TTT</td>\n      <td>0.5</td>\n      <td>ohe</td>\n      <td>0.0</td>\n      <td>single</td>\n      <td>Find-RS</td>\n      <td>0.93737</td>\n      <td>0.951613</td>\n      <td>10.571429</td>\n      <td>14.0</td>\n      <td>100.0</td>\n      <td>0.5</td>\n      <td>0.937370</td>\n      <td>0.951613</td>\n      <td>10.571429</td>\n      <td>14.00</td>\n      <td>100.0</td>\n    </tr>\n    <tr>\n      <th>...</th>\n      <td>...</td>\n      <td>...</td>\n      <td>...</td>\n      <td>...</td>\n      <td>...</td>\n      <td>...</td>\n      <td>...</td>\n      <td>...</td>\n      <td>...</td>\n      <td>...</td>\n      <td>...</td>\n      <td>...</td>\n      <td>...</td>\n      <td>...</td>\n      <td>...</td>\n      <td>...</td>\n      <td>...</td>\n    </tr>\n    <tr>\n      <th>5388</th>\n      <td>CONNECT-4</td>\n      <td>NaN</td>\n      <td>av</td>\n      <td>3.0</td>\n      <td>single</td>\n      <td>SVM</td>\n      <td>NaN</td>\n      <td>NaN</td>\n      <td>NaN</td>\n      <td>NaN</td>\n      <td>NaN</td>\n      <td>0.5</td>\n      <td>0.886849</td>\n      <td>0.914927</td>\n      <td>NaN</td>\n      <td>NaN</td>\n      <td>1.0</td>\n    </tr>\n    <tr>\n      <th>5389</th>\n      <td>CONNECT-4</td>\n      <td>NaN</td>\n      <td>av</td>\n      <td>3.0</td>\n      <td>single</td>\n      <td>RF</td>\n      <td>NaN</td>\n      <td>NaN</td>\n      <td>NaN</td>\n      <td>NaN</td>\n      <td>NaN</td>\n      <td>0.5</td>\n      <td>0.866244</td>\n      <td>0.901650</td>\n      <td>NaN</td>\n      <td>NaN</td>\n      <td>1.0</td>\n    </tr>\n    <tr>\n      <th>5390</th>\n      <td>CONNECT-4</td>\n      <td>NaN</td>\n      <td>av</td>\n      <td>3.0</td>\n      <td>single</td>\n      <td>Find-RS</td>\n      <td>NaN</td>\n      <td>NaN</td>\n      <td>NaN</td>\n      <td>NaN</td>\n      <td>NaN</td>\n      <td>0.5</td>\n      <td>0.800699</td>\n      <td>0.848712</td>\n      <td>34.587802</td>\n      <td>1902.00</td>\n      <td>20.0</td>\n    </tr>\n    <tr>\n      <th>5391</th>\n      <td>CONNECT-4</td>\n      <td>NaN</td>\n      <td>av</td>\n      <td>3.0</td>\n      <td>bo</td>\n      <td>Find-RS</td>\n      <td>NaN</td>\n      <td>NaN</td>\n      <td>NaN</td>\n      <td>NaN</td>\n      <td>NaN</td>\n      <td>0.5</td>\n      <td>0.858251</td>\n      <td>0.891972</td>\n      <td>34.700937</td>\n      <td>1884.55</td>\n      <td>20.0</td>\n    </tr>\n    <tr>\n      <th>5392</th>\n      <td>CONNECT-4</td>\n      <td>NaN</td>\n      <td>av</td>\n      <td>3.0</td>\n      <td>bp</td>\n      <td>Find-RS</td>\n      <td>NaN</td>\n      <td>NaN</td>\n      <td>NaN</td>\n      <td>NaN</td>\n      <td>NaN</td>\n      <td>0.5</td>\n      <td>0.860886</td>\n      <td>0.896349</td>\n      <td>34.649663</td>\n      <td>31778.00</td>\n      <td>20.0</td>\n    </tr>\n  </tbody>\n</table>\n<p>5393 rows × 17 columns</p>\n</div>"
     },
     "execution_count": 8,
     "metadata": {},
     "output_type": "execute_result"
    }
   ],
   "source": [
    "df"
   ],
   "metadata": {
    "collapsed": false
   }
  },
  {
   "cell_type": "code",
   "execution_count": 9,
   "outputs": [],
   "source": [
    "\n",
    "# persist data\n",
    "df.to_pickle('../merged.pkl')"
   ],
   "metadata": {
    "collapsed": false
   }
  },
  {
   "cell_type": "code",
   "execution_count": null,
   "outputs": [],
   "source": [],
   "metadata": {
    "collapsed": false
   }
  }
 ],
 "metadata": {
  "kernelspec": {
   "display_name": "Python 3",
   "language": "python",
   "name": "python3"
  },
  "language_info": {
   "codemirror_mode": {
    "name": "ipython",
    "version": 2
   },
   "file_extension": ".py",
   "mimetype": "text/x-python",
   "name": "python",
   "nbconvert_exporter": "python",
   "pygments_lexer": "ipython2",
   "version": "2.7.6"
  }
 },
 "nbformat": 4,
 "nbformat_minor": 0
}
