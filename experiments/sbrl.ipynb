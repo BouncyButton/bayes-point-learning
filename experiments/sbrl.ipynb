{
 "cells": [
  {
   "cell_type": "raw",
   "source": [],
   "metadata": {
    "collapsed": false,
    "pycharm": {
     "name": ""
    }
   }
  },
  {
   "cell_type": "code",
   "execution_count": null,
   "outputs": [],
   "source": [],
   "metadata": {
    "collapsed": false
   }
  },
  {
   "cell_type": "code",
   "execution_count": 1,
   "metadata": {
    "collapsed": true
   },
   "outputs": [],
   "source": [
    "from skater.core.global_interpretation.interpretable_models.brlc import BRLC"
   ]
  },
  {
   "cell_type": "code",
   "execution_count": 2,
   "outputs": [],
   "source": [
    "class SBRL:\n",
    "    def __init__(self):\n",
    "        self.clf = None\n",
    "        self.params = None\n",
    "\n",
    "    def fit(self, X, y):\n",
    "        # nella fit creo l'oggetto. per fortuna la deep copy viene fatta precedentemente al fit :)\n",
    "        self.clf = BRLC(min_rule_len=1, max_rule_len=10, drop_features=True)\n",
    "        # mi ricordo di settare gli iperparam\n",
    "        self.clf.set_params(self.params)\n",
    "        return self.clf.fit(X,y, bin_labels=\"default\")\n",
    "\n",
    "    def predict(self, X):\n",
    "        y0, y1 = self.clf.predict(X)\n",
    "        # y0 dovrebbe avere un dataframe con le percentuali (che ora non ci interessano)\n",
    "        # invece y1 è un numpy.ndarray\n",
    "        return y1\n",
    "\n",
    "    def set_params(self, **params):\n",
    "        # mi tengo da parte gli iperparametri\n",
    "        self.params = params\n",
    "        #return self.clf.set_params(params)"
   ],
   "metadata": {
    "collapsed": false
   }
  },
  {
   "cell_type": "code",
   "execution_count": 3,
   "outputs": [],
   "source": [
    "# create classification problem\n",
    "\n",
    "from sklearn.datasets import make_classification\n",
    "X, y = make_classification(n_samples=1000, n_features=10, n_informative=5, n_redundant=5, random_state=1)\n",
    "\n"
   ],
   "metadata": {
    "collapsed": false
   }
  },
  {
   "cell_type": "code",
   "execution_count": 4,
   "outputs": [],
   "source": [
    "from sklearn.model_selection import train_test_split\n",
    "\n",
    "X_train, X_test, y_train, y_test = train_test_split(X, y, test_size=0.2, random_state=1)\n"
   ],
   "metadata": {
    "collapsed": false
   }
  },
  {
   "cell_type": "code",
   "execution_count": 5,
   "outputs": [
    {
     "ename": "PackageNotInstalledError",
     "evalue": "The R package \"sbrl\" is not installed.",
     "output_type": "error",
     "traceback": [
      "\u001B[0;31m---------------------------------------------------------------------------\u001B[0m",
      "\u001B[0;31mPackageNotInstalledError\u001B[0m                  Traceback (most recent call last)",
      "Cell \u001B[0;32mIn[5], line 3\u001B[0m\n\u001B[1;32m      1\u001B[0m \u001B[38;5;66;03m# create model\u001B[39;00m\n\u001B[1;32m      2\u001B[0m clf \u001B[38;5;241m=\u001B[39m SBRL()\n\u001B[0;32m----> 3\u001B[0m clf\u001B[38;5;241m.\u001B[39mfit(X_train, y_train)\n\u001B[1;32m      5\u001B[0m \u001B[38;5;28;01mfrom\u001B[39;00m \u001B[38;5;21;01msklearn\u001B[39;00m\u001B[38;5;21;01m.\u001B[39;00m\u001B[38;5;21;01mmetrics\u001B[39;00m \u001B[38;5;28;01mimport\u001B[39;00m accuracy_score\n\u001B[1;32m      6\u001B[0m accuracy_score(y_test, clf\u001B[38;5;241m.\u001B[39mpredict(X_test))\n",
      "Cell \u001B[0;32mIn[2], line 8\u001B[0m, in \u001B[0;36mSBRL.fit\u001B[0;34m(self, X, y)\u001B[0m\n\u001B[1;32m      6\u001B[0m \u001B[38;5;28;01mdef\u001B[39;00m \u001B[38;5;21mfit\u001B[39m(\u001B[38;5;28mself\u001B[39m, X, y):\n\u001B[1;32m      7\u001B[0m     \u001B[38;5;66;03m# nella fit creo l'oggetto. per fortuna la deep copy viene fatta precedentemente al fit :)\u001B[39;00m\n\u001B[0;32m----> 8\u001B[0m     \u001B[38;5;28mself\u001B[39m\u001B[38;5;241m.\u001B[39mclf \u001B[38;5;241m=\u001B[39m BRLC(min_rule_len\u001B[38;5;241m=\u001B[39m\u001B[38;5;241m1\u001B[39m, max_rule_len\u001B[38;5;241m=\u001B[39m\u001B[38;5;241m10\u001B[39m, drop_features\u001B[38;5;241m=\u001B[39m\u001B[38;5;28;01mTrue\u001B[39;00m)\n\u001B[1;32m      9\u001B[0m     \u001B[38;5;66;03m# mi ricordo di settare gli iperparam\u001B[39;00m\n\u001B[1;32m     10\u001B[0m     \u001B[38;5;28mself\u001B[39m\u001B[38;5;241m.\u001B[39mclf\u001B[38;5;241m.\u001B[39mset_params(\u001B[38;5;28mself\u001B[39m\u001B[38;5;241m.\u001B[39mparams)\n",
      "File \u001B[0;32m~/miniconda3/envs/corels/lib/python3.11/site-packages/skater/core/global_interpretation/interpretable_models/brlc.py:106\u001B[0m, in \u001B[0;36mBRLC.__init__\u001B[0;34m(self, iterations, pos_sign, neg_sign, min_rule_len, max_rule_len, min_support_pos, min_support_neg, eta, n_chains, alpha, lambda_, discretize, drop_features)\u001B[0m\n\u001B[1;32m    102\u001B[0m \u001B[38;5;28;01mdef\u001B[39;00m \u001B[38;5;21m__init__\u001B[39m(\u001B[38;5;28mself\u001B[39m, iterations\u001B[38;5;241m=\u001B[39m\u001B[38;5;241m30000\u001B[39m, pos_sign\u001B[38;5;241m=\u001B[39m\u001B[38;5;241m1\u001B[39m, neg_sign\u001B[38;5;241m=\u001B[39m\u001B[38;5;241m0\u001B[39m, min_rule_len\u001B[38;5;241m=\u001B[39m\u001B[38;5;241m1\u001B[39m,\n\u001B[1;32m    103\u001B[0m              max_rule_len\u001B[38;5;241m=\u001B[39m\u001B[38;5;241m8\u001B[39m, min_support_pos\u001B[38;5;241m=\u001B[39m\u001B[38;5;241m0.10\u001B[39m, min_support_neg\u001B[38;5;241m=\u001B[39m\u001B[38;5;241m0.10\u001B[39m,\n\u001B[1;32m    104\u001B[0m              eta\u001B[38;5;241m=\u001B[39m\u001B[38;5;241m1.0\u001B[39m, n_chains\u001B[38;5;241m=\u001B[39m\u001B[38;5;241m10\u001B[39m, alpha\u001B[38;5;241m=\u001B[39m\u001B[38;5;241m1\u001B[39m, lambda_\u001B[38;5;241m=\u001B[39m\u001B[38;5;241m10\u001B[39m, discretize\u001B[38;5;241m=\u001B[39m\u001B[38;5;28;01mTrue\u001B[39;00m, drop_features\u001B[38;5;241m=\u001B[39m\u001B[38;5;28;01mFalse\u001B[39;00m):\n\u001B[0;32m--> 106\u001B[0m     \u001B[38;5;28mself\u001B[39m\u001B[38;5;241m.\u001B[39m__r_sbrl \u001B[38;5;241m=\u001B[39m importr(\u001B[38;5;124m'\u001B[39m\u001B[38;5;124msbrl\u001B[39m\u001B[38;5;124m'\u001B[39m)\n\u001B[1;32m    107\u001B[0m     \u001B[38;5;28mself\u001B[39m\u001B[38;5;241m.\u001B[39mmodel \u001B[38;5;241m=\u001B[39m \u001B[38;5;28;01mNone\u001B[39;00m\n\u001B[1;32m    108\u001B[0m     \u001B[38;5;28mself\u001B[39m\u001B[38;5;241m.\u001B[39m__as_factor \u001B[38;5;241m=\u001B[39m ro\u001B[38;5;241m.\u001B[39mr[\u001B[38;5;124m'\u001B[39m\u001B[38;5;124mas.factor\u001B[39m\u001B[38;5;124m'\u001B[39m]\n",
      "File \u001B[0;32m~/miniconda3/envs/corels/lib/python3.11/site-packages/rpy2/robjects/packages.py:472\u001B[0m, in \u001B[0;36mimportr\u001B[0;34m(name, lib_loc, robject_translations, signature_translation, suppress_messages, on_conflict, symbol_r2python, symbol_resolve, data)\u001B[0m\n\u001B[1;32m    440\u001B[0m \u001B[38;5;124;03m\"\"\" Import an R package.\u001B[39;00m\n\u001B[1;32m    441\u001B[0m \n\u001B[1;32m    442\u001B[0m \u001B[38;5;124;03mArguments:\u001B[39;00m\n\u001B[0;32m   (...)\u001B[0m\n\u001B[1;32m    468\u001B[0m \n\u001B[1;32m    469\u001B[0m \u001B[38;5;124;03m\"\"\"\u001B[39;00m\n\u001B[1;32m    471\u001B[0m \u001B[38;5;28;01mif\u001B[39;00m \u001B[38;5;129;01mnot\u001B[39;00m isinstalled(name, lib_loc\u001B[38;5;241m=\u001B[39mlib_loc):\n\u001B[0;32m--> 472\u001B[0m     \u001B[38;5;28;01mraise\u001B[39;00m PackageNotInstalledError(\n\u001B[1;32m    473\u001B[0m         \u001B[38;5;124m'\u001B[39m\u001B[38;5;124mThe R package \u001B[39m\u001B[38;5;124m\"\u001B[39m\u001B[38;5;132;01m%s\u001B[39;00m\u001B[38;5;124m\"\u001B[39m\u001B[38;5;124m is not installed.\u001B[39m\u001B[38;5;124m'\u001B[39m \u001B[38;5;241m%\u001B[39m name\n\u001B[1;32m    474\u001B[0m     )\n\u001B[1;32m    476\u001B[0m \u001B[38;5;28;01mif\u001B[39;00m suppress_messages:\n\u001B[1;32m    477\u001B[0m     ok \u001B[38;5;241m=\u001B[39m quiet_require(name, lib_loc\u001B[38;5;241m=\u001B[39mlib_loc)\n",
      "\u001B[0;31mPackageNotInstalledError\u001B[0m: The R package \"sbrl\" is not installed."
     ]
    }
   ],
   "source": [
    "# create model\n",
    "clf = SBRL()\n",
    "clf.fit(X_train, y_train)\n",
    "\n",
    "from sklearn.metrics import accuracy_score\n",
    "accuracy_score(y_test, clf.predict(X_test))\n"
   ],
   "metadata": {
    "collapsed": false
   }
  },
  {
   "cell_type": "code",
   "execution_count": 4,
   "outputs": [
    {
     "name": "stdout",
     "output_type": "stream",
     "text": [
      "   A  B\n",
      "0  1  1\n",
      "1  1  1\n",
      "2  1  1\n",
      "3  2  5\n",
      "4  1  4\n",
      "5  3  6\n",
      "     C\n",
      "0   ok\n",
      "1   ok\n",
      "2   no\n",
      "3  foo\n",
      "4  baz\n",
      "5  foo\n",
      "   A  B\n",
      "0  1  1\n",
      "1  1  4\n",
      "2  2  5\n",
      "3  3  6\n",
      "0     ok\n",
      "1    baz\n",
      "2    foo\n",
      "3    foo\n",
      "Name: C, dtype: object\n"
     ]
    }
   ],
   "source": [
    "import pandas as pd\n",
    "# Create sample X and y DataFrames with duplicates in X\n",
    "X = pd.DataFrame({'A': [1, 1, 1, 2, 1, 3], 'B': [1, 1, 1, 5, 4, 6]})\n",
    "y = pd.DataFrame({'C': ['ok', 'ok', 'no', 'foo', 'baz', 'foo']})\n",
    "print(X)\n",
    "print(y)\n",
    "# Create a new DataFrame with unique rows from X and the most common y value for each set of duplicates in X\n",
    "df = pd.concat([X, y], axis=1).groupby(list(X.columns)).agg(lambda x:x.value_counts().index[0]).reset_index()\n",
    "\n",
    "# Separate the new X and y DataFrames\n",
    "new_X = df[X.columns]\n",
    "print(new_X)\n",
    "new_y = df['C']\n",
    "print(new_y)"
   ],
   "metadata": {
    "collapsed": false
   }
  },
  {
   "cell_type": "code",
   "execution_count": null,
   "outputs": [],
   "source": [],
   "metadata": {
    "collapsed": false
   }
  }
 ],
 "metadata": {
  "kernelspec": {
   "display_name": "Python 3",
   "language": "python",
   "name": "python3"
  },
  "language_info": {
   "codemirror_mode": {
    "name": "ipython",
    "version": 2
   },
   "file_extension": ".py",
   "mimetype": "text/x-python",
   "name": "python",
   "nbconvert_exporter": "python",
   "pygments_lexer": "ipython2",
   "version": "2.7.6"
  }
 },
 "nbformat": 4,
 "nbformat_minor": 0
}
