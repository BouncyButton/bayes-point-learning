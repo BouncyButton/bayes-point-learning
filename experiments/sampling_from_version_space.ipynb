{
 "cells": [
  {
   "cell_type": "markdown",
   "source": [
    "# creo un ruleset \"ground truth\" con 3 regole"
   ],
   "metadata": {
    "collapsed": false
   }
  },
  {
   "cell_type": "code",
   "execution_count": null,
   "metadata": {
    "collapsed": true,
    "pycharm": {
     "is_executing": true
    }
   },
   "outputs": [],
   "source": [
    "from bpllib.rules._discrete_constraint import DiscreteConstraint\n",
    "from bpllib.rules._rule import Rule\n",
    "import numpy as np\n",
    "import pandas as pd\n",
    "import matplotlib.pyplot as plt\n",
    "\n",
    "# random rules\n",
    "r1 = Rule(constraints={0: DiscreteConstraint(value=0, index=0),\n",
    "                       1: DiscreteConstraint(value=1, index=1),\n",
    "                       3: DiscreteConstraint(value=0, index=3)})\n",
    "\n",
    "r2 = Rule(constraints={2: DiscreteConstraint(value=1, index=2),\n",
    "                       4: DiscreteConstraint(value=1, index=4)})\n",
    "\n",
    "#r3 = Rule(constraints={5: DiscreteConstraint(value=1, index=5),\n",
    "#                       6: DiscreteConstraint(value=0, index=6)})\n",
    "\n",
    "rule_set = [r1, r2]  #, r3]"
   ]
  },
  {
   "cell_type": "code",
   "execution_count": 2,
   "outputs": [],
   "source": [
    "# random data\n",
    "\n",
    "X_train = np.random.randint(0, 2, size=(100, 20))\n",
    "y_train = np.array([any([r.covers(x) for r in rule_set]) for x in X_train])\n",
    "X_test = np.random.randint(0, 2, size=(100, 20))\n",
    "y_test = np.array([any([r.covers(x) for r in rule_set]) for x in X_test])"
   ],
   "metadata": {
    "collapsed": false
   }
  },
  {
   "cell_type": "code",
   "execution_count": 3,
   "outputs": [
    {
     "data": {
      "text/plain": "39"
     },
     "execution_count": 3,
     "metadata": {},
     "output_type": "execute_result"
    }
   ],
   "source": [
    "y_train.sum()"
   ],
   "metadata": {
    "collapsed": false
   }
  },
  {
   "cell_type": "code",
   "execution_count": 4,
   "outputs": [],
   "source": [
    "import itertools\n",
    "\n",
    "def generate_rules(m, n_features=7):\n",
    "    all_features = list(range(n_features))\n",
    "    combos = itertools.combinations(all_features, m)\n",
    "    rules = set()\n",
    "    for combo in combos:\n",
    "        for combo_values in itertools.product([0,1], repeat=m):\n",
    "            rule = Rule(constraints={})\n",
    "            for i in range(m):\n",
    "                if combo_values[i] == 0:\n",
    "                    rule.constraints[combo[i]] = DiscreteConstraint(value=0, index=combo[i])\n",
    "                else:\n",
    "                    rule.constraints[combo[i]] = DiscreteConstraint(value=1, index=combo[i])\n",
    "            rules.add(rule)\n",
    "    return rules"
   ],
   "metadata": {
    "collapsed": false
   }
  },
  {
   "cell_type": "code",
   "execution_count": 5,
   "outputs": [
    {
     "name": "stdout",
     "output_type": "stream",
     "text": [
      "210\n"
     ]
    }
   ],
   "source": [
    "rules_space = set.union(*[generate_rules(m=m, n_features=5) for m in range(1, 5)])\n",
    "print(len(rules_space))"
   ],
   "metadata": {
    "collapsed": false
   }
  },
  {
   "cell_type": "code",
   "execution_count": 6,
   "outputs": [],
   "source": [
    "# nonsense\n",
    "VS_rules = {r for r in rules_space if not any([r.covers(x) for x in X_train[y_train==0]]) and any([r.covers(x) for x in X_train[y_train==1]])}"
   ],
   "metadata": {
    "collapsed": false
   }
  },
  {
   "cell_type": "code",
   "execution_count": 7,
   "outputs": [],
   "source": [
    "# sample from rules_space\n",
    "#T = 100\n",
    "#uniform_sample = np.random.choice(list(rules_space), size=T, replace=True)\n"
   ],
   "metadata": {
    "collapsed": false
   }
  },
  {
   "cell_type": "code",
   "execution_count": 8,
   "outputs": [],
   "source": [
    "#classification = np.array([sum([r.covers(x) for r in uniform_sample]) >= T // 2 for x in X_train])"
   ],
   "metadata": {
    "collapsed": false
   }
  },
  {
   "cell_type": "code",
   "execution_count": 9,
   "outputs": [],
   "source": [
    "#classification.sum()"
   ],
   "metadata": {
    "collapsed": false
   }
  },
  {
   "cell_type": "code",
   "execution_count": 6,
   "outputs": [],
   "source": [
    "# Generate the set of all possible tuples of up to k elements each, chosen from rules_space\n",
    "def generate_tuples(k):\n",
    "    all_tuples = []\n",
    "    for i in range(1, k+1):\n",
    "        print(len(all_tuples))\n",
    "        tuples = list(itertools.combinations(rules_space, i))\n",
    "        all_tuples = all_tuples + tuples\n",
    "    return all_tuples"
   ],
   "metadata": {
    "collapsed": false
   }
  },
  {
   "cell_type": "code",
   "execution_count": null,
   "outputs": [],
   "source": [
    "x = generate_tuples(4)  # one minute..."
   ],
   "metadata": {
    "collapsed": false,
    "pycharm": {
     "is_executing": true
    }
   }
  },
  {
   "cell_type": "code",
   "execution_count": null,
   "outputs": [],
   "source": [
    "len(x)"
   ],
   "metadata": {
    "collapsed": false,
    "pycharm": {
     "is_executing": true
    }
   }
  },
  {
   "cell_type": "code",
   "execution_count": 13,
   "outputs": [
    {
     "name": "stdout",
     "output_type": "stream",
     "text": [
      "(X[0] == 1 ^ X[1] == 1 ^ X[3] == 1 ^ X[5] == 1, X[0] == 0 ^ X[1] == 1 ^ X[2] == 0 ^ X[5] == 1, X[3] == 1 ^ X[4] == 0)\n"
     ]
    }
   ],
   "source": [
    "print(x[-1])"
   ],
   "metadata": {
    "collapsed": false
   }
  },
  {
   "cell_type": "code",
   "execution_count": null,
   "outputs": [],
   "source": [
    "hypothesis_space = x"
   ],
   "metadata": {
    "collapsed": false,
    "pycharm": {
     "is_executing": true
    }
   }
  },
  {
   "cell_type": "code",
   "execution_count": null,
   "outputs": [],
   "source": [
    "len(hypothesis_space)\n"
   ],
   "metadata": {
    "collapsed": false,
    "pycharm": {
     "is_executing": true
    }
   }
  },
  {
   "cell_type": "code",
   "execution_count": null,
   "outputs": [],
   "source": [
    "# pick one element\n",
    "h = next(iter(hypothesis_space))"
   ],
   "metadata": {
    "collapsed": false,
    "pycharm": {
     "is_executing": true
    }
   }
  },
  {
   "cell_type": "code",
   "execution_count": null,
   "outputs": [],
   "source": [
    "print(h)"
   ],
   "metadata": {
    "collapsed": false,
    "pycharm": {
     "is_executing": true
    }
   }
  },
  {
   "cell_type": "code",
   "execution_count": null,
   "outputs": [],
   "source": [
    "len(X_train)"
   ],
   "metadata": {
    "collapsed": false,
    "pycharm": {
     "is_executing": true
    }
   }
  },
  {
   "cell_type": "code",
   "execution_count": 25,
   "outputs": [
    {
     "name": "stderr",
     "output_type": "stream",
     "text": [
      "  2%|▏         | 204286/9002007 [00:07<05:14, 27984.83it/s]"
     ]
    },
    {
     "ename": "KeyboardInterrupt",
     "evalue": "",
     "output_type": "error",
     "traceback": [
      "\u001B[0;31m---------------------------------------------------------------------------\u001B[0m",
      "\u001B[0;31mKeyboardInterrupt\u001B[0m                         Traceback (most recent call last)",
      "Cell \u001B[0;32mIn[25], line 2\u001B[0m\n\u001B[1;32m      1\u001B[0m \u001B[38;5;28;01mfrom\u001B[39;00m \u001B[38;5;21;01mtqdm\u001B[39;00m \u001B[38;5;28;01mimport\u001B[39;00m tqdm\n\u001B[0;32m----> 2\u001B[0m VS2 \u001B[38;5;241m=\u001B[39m {h \u001B[38;5;28;01mfor\u001B[39;00m h \u001B[38;5;129;01min\u001B[39;00m tqdm(hypothesis_space) \u001B[38;5;28;01mif\u001B[39;00m \u001B[38;5;28mall\u001B[39m([\u001B[38;5;28many\u001B[39m([r\u001B[38;5;241m.\u001B[39mcovers(x) \u001B[38;5;28;01mfor\u001B[39;00m r \u001B[38;5;129;01min\u001B[39;00m h]) \u001B[38;5;28;01mfor\u001B[39;00m x \u001B[38;5;129;01min\u001B[39;00m X[y\u001B[38;5;241m==\u001B[39m\u001B[38;5;241m1\u001B[39m]]) \u001B[38;5;129;01mand\u001B[39;00m \u001B[38;5;129;01mnot\u001B[39;00m \u001B[38;5;28many\u001B[39m([\u001B[38;5;28many\u001B[39m([r\u001B[38;5;241m.\u001B[39mcovers(x) \u001B[38;5;28;01mfor\u001B[39;00m r \u001B[38;5;129;01min\u001B[39;00m h]) \u001B[38;5;28;01mfor\u001B[39;00m x \u001B[38;5;129;01min\u001B[39;00m X[y\u001B[38;5;241m==\u001B[39m\u001B[38;5;241m0\u001B[39m]])}\n",
      "Cell \u001B[0;32mIn[25], line 2\u001B[0m, in \u001B[0;36m<setcomp>\u001B[0;34m(.0)\u001B[0m\n\u001B[1;32m      1\u001B[0m \u001B[38;5;28;01mfrom\u001B[39;00m \u001B[38;5;21;01mtqdm\u001B[39;00m \u001B[38;5;28;01mimport\u001B[39;00m tqdm\n\u001B[0;32m----> 2\u001B[0m VS2 \u001B[38;5;241m=\u001B[39m {h \u001B[38;5;28;01mfor\u001B[39;00m h \u001B[38;5;129;01min\u001B[39;00m tqdm(hypothesis_space) \u001B[38;5;28;01mif\u001B[39;00m \u001B[38;5;28mall\u001B[39m([\u001B[38;5;28many\u001B[39m([r\u001B[38;5;241m.\u001B[39mcovers(x) \u001B[38;5;28;01mfor\u001B[39;00m r \u001B[38;5;129;01min\u001B[39;00m h]) \u001B[38;5;28;01mfor\u001B[39;00m x \u001B[38;5;129;01min\u001B[39;00m X[y\u001B[38;5;241m==\u001B[39m\u001B[38;5;241m1\u001B[39m]]) \u001B[38;5;129;01mand\u001B[39;00m \u001B[38;5;129;01mnot\u001B[39;00m \u001B[38;5;28many\u001B[39m([\u001B[38;5;28many\u001B[39m([r\u001B[38;5;241m.\u001B[39mcovers(x) \u001B[38;5;28;01mfor\u001B[39;00m r \u001B[38;5;129;01min\u001B[39;00m h]) \u001B[38;5;28;01mfor\u001B[39;00m x \u001B[38;5;129;01min\u001B[39;00m X[y\u001B[38;5;241m==\u001B[39m\u001B[38;5;241m0\u001B[39m]])}\n",
      "Cell \u001B[0;32mIn[25], line 2\u001B[0m, in \u001B[0;36m<listcomp>\u001B[0;34m(.0)\u001B[0m\n\u001B[1;32m      1\u001B[0m \u001B[38;5;28;01mfrom\u001B[39;00m \u001B[38;5;21;01mtqdm\u001B[39;00m \u001B[38;5;28;01mimport\u001B[39;00m tqdm\n\u001B[0;32m----> 2\u001B[0m VS2 \u001B[38;5;241m=\u001B[39m {h \u001B[38;5;28;01mfor\u001B[39;00m h \u001B[38;5;129;01min\u001B[39;00m tqdm(hypothesis_space) \u001B[38;5;28;01mif\u001B[39;00m \u001B[38;5;28mall\u001B[39m([\u001B[38;5;28many\u001B[39m([r\u001B[38;5;241m.\u001B[39mcovers(x) \u001B[38;5;28;01mfor\u001B[39;00m r \u001B[38;5;129;01min\u001B[39;00m h]) \u001B[38;5;28;01mfor\u001B[39;00m x \u001B[38;5;129;01min\u001B[39;00m X[y\u001B[38;5;241m==\u001B[39m\u001B[38;5;241m1\u001B[39m]]) \u001B[38;5;129;01mand\u001B[39;00m \u001B[38;5;129;01mnot\u001B[39;00m \u001B[38;5;28many\u001B[39m([\u001B[38;5;28many\u001B[39m([r\u001B[38;5;241m.\u001B[39mcovers(x) \u001B[38;5;28;01mfor\u001B[39;00m r \u001B[38;5;129;01min\u001B[39;00m h]) \u001B[38;5;28;01mfor\u001B[39;00m x \u001B[38;5;129;01min\u001B[39;00m X[y\u001B[38;5;241m==\u001B[39m\u001B[38;5;241m0\u001B[39m]])}\n",
      "Cell \u001B[0;32mIn[25], line 2\u001B[0m, in \u001B[0;36m<listcomp>\u001B[0;34m(.0)\u001B[0m\n\u001B[1;32m      1\u001B[0m \u001B[38;5;28;01mfrom\u001B[39;00m \u001B[38;5;21;01mtqdm\u001B[39;00m \u001B[38;5;28;01mimport\u001B[39;00m tqdm\n\u001B[0;32m----> 2\u001B[0m VS2 \u001B[38;5;241m=\u001B[39m {h \u001B[38;5;28;01mfor\u001B[39;00m h \u001B[38;5;129;01min\u001B[39;00m tqdm(hypothesis_space) \u001B[38;5;28;01mif\u001B[39;00m \u001B[38;5;28mall\u001B[39m([\u001B[38;5;28many\u001B[39m([r\u001B[38;5;241m.\u001B[39mcovers(x) \u001B[38;5;28;01mfor\u001B[39;00m r \u001B[38;5;129;01min\u001B[39;00m h]) \u001B[38;5;28;01mfor\u001B[39;00m x \u001B[38;5;129;01min\u001B[39;00m X[y\u001B[38;5;241m==\u001B[39m\u001B[38;5;241m1\u001B[39m]]) \u001B[38;5;129;01mand\u001B[39;00m \u001B[38;5;129;01mnot\u001B[39;00m \u001B[38;5;28many\u001B[39m([\u001B[38;5;28many\u001B[39m([r\u001B[38;5;241m.\u001B[39mcovers(x) \u001B[38;5;28;01mfor\u001B[39;00m r \u001B[38;5;129;01min\u001B[39;00m h]) \u001B[38;5;28;01mfor\u001B[39;00m x \u001B[38;5;129;01min\u001B[39;00m X[y\u001B[38;5;241m==\u001B[39m\u001B[38;5;241m0\u001B[39m]])}\n",
      "File \u001B[0;32m~/PycharmProjects/bayes-point-learning/bpllib/rules/_rule.py:71\u001B[0m, in \u001B[0;36mRule.covers\u001B[0;34m(self, x)\u001B[0m\n\u001B[1;32m     60\u001B[0m \u001B[38;5;124;03m'''\u001B[39;00m\n\u001B[1;32m     61\u001B[0m \u001B[38;5;124;03mChecks if the current rule covers an input example\u001B[39;00m\n\u001B[1;32m     62\u001B[0m \u001B[38;5;124;03mParameters\u001B[39;00m\n\u001B[0;32m   (...)\u001B[0m\n\u001B[1;32m     68\u001B[0m \n\u001B[1;32m     69\u001B[0m \u001B[38;5;124;03m'''\u001B[39;00m\n\u001B[1;32m     70\u001B[0m \u001B[38;5;28;01mfor\u001B[39;00m constraint \u001B[38;5;129;01min\u001B[39;00m \u001B[38;5;28mself\u001B[39m\u001B[38;5;241m.\u001B[39mconstraints\u001B[38;5;241m.\u001B[39mvalues():\n\u001B[0;32m---> 71\u001B[0m     \u001B[38;5;28;01mif\u001B[39;00m \u001B[38;5;129;01mnot\u001B[39;00m \u001B[43mconstraint\u001B[49m\u001B[38;5;241;43m.\u001B[39;49m\u001B[43msatisfied\u001B[49m\u001B[43m(\u001B[49m\u001B[43mx\u001B[49m\u001B[43m)\u001B[49m:\n\u001B[1;32m     72\u001B[0m         \u001B[38;5;28;01mreturn\u001B[39;00m \u001B[38;5;28;01mFalse\u001B[39;00m\n\u001B[1;32m     73\u001B[0m \u001B[38;5;28;01mreturn\u001B[39;00m \u001B[38;5;28;01mTrue\u001B[39;00m\n",
      "\u001B[0;31mKeyboardInterrupt\u001B[0m: "
     ]
    }
   ],
   "source": [
    "#from tqdm import tqdm\n",
    "#VS2 = {h for h in tqdm(hypothesis_space) if all([any([r.covers(x) for r in h]) for x in X_train[y_train==1]]) and not any([any([r.covers(x) for r in h]) for x in X_train[y_train==0]])}"
   ],
   "metadata": {
    "collapsed": false
   }
  },
  {
   "cell_type": "code",
   "execution_count": null,
   "outputs": [],
   "source": [
    "VS = set()\n",
    "from tqdm import tqdm\n",
    "for h in tqdm(hypothesis_space):\n",
    "    ok = True\n",
    "    for x in X_train[y_train==1]:\n",
    "        if not any([r.covers(x) for r in h]):\n",
    "            ok = False\n",
    "            break\n",
    "    for x in X_train[y_train==0]:\n",
    "        if any([r.covers(x) for r in h]):\n",
    "            ok = False\n",
    "            break\n",
    "    if ok:\n",
    "        VS.add(h)\n"
   ],
   "metadata": {
    "collapsed": false,
    "pycharm": {
     "is_executing": true
    }
   }
  },
  {
   "cell_type": "code",
   "execution_count": 60,
   "outputs": [
    {
     "data": {
      "text/plain": "1"
     },
     "execution_count": 60,
     "metadata": {},
     "output_type": "execute_result"
    }
   ],
   "source": [
    "len(VS)"
   ],
   "metadata": {
    "collapsed": false
   }
  },
  {
   "cell_type": "code",
   "execution_count": 61,
   "outputs": [
    {
     "data": {
      "text/plain": "{(X[2] == 1 ^ X[4] == 1, X[0] == 0 ^ X[1] == 1 ^ X[3] == 0)}"
     },
     "execution_count": 61,
     "metadata": {},
     "output_type": "execute_result"
    }
   ],
   "source": [
    "VS"
   ],
   "metadata": {
    "collapsed": false
   }
  },
  {
   "cell_type": "code",
   "execution_count": 31,
   "outputs": [
    {
     "name": "stderr",
     "output_type": "stream",
     "text": [
      "/var/folders/zg/z65vx93j21vb3xf7sqmrn2n00000gn/T/ipykernel_33981/596547705.py:3: VisibleDeprecationWarning: Creating an ndarray from ragged nested sequences (which is a list-or-tuple of lists-or-tuples-or ndarrays with different lengths or shapes) is deprecated. If you meant to do this, you must specify 'dtype=object' when creating the ndarray.\n",
      "  uniform_sample = np.random.choice(list(VS), size=T, replace=True)\n"
     ]
    }
   ],
   "source": [
    "# sample from VS\n",
    "T = 100\n",
    "uniform_sample = np.random.choice(list(VS), size=T, replace=True)"
   ],
   "metadata": {
    "collapsed": false
   }
  },
  {
   "cell_type": "code",
   "execution_count": 32,
   "outputs": [],
   "source": [
    "y_pred = np.array([sum([any([r.covers(x) for r in h]) for h in uniform_sample]) >= T // 2 for x in X_test])"
   ],
   "metadata": {
    "collapsed": false
   }
  },
  {
   "cell_type": "code",
   "execution_count": 34,
   "outputs": [
    {
     "data": {
      "text/plain": "1.0"
     },
     "execution_count": 34,
     "metadata": {},
     "output_type": "execute_result"
    }
   ],
   "source": [
    "from sklearn.metrics import accuracy_score\n",
    "accuracy_score(y_pred, y_test)"
   ],
   "metadata": {
    "collapsed": false
   }
  },
  {
   "cell_type": "code",
   "execution_count": 36,
   "outputs": [
    {
     "name": "stderr",
     "output_type": "stream",
     "text": [
      "/var/folders/zg/z65vx93j21vb3xf7sqmrn2n00000gn/T/ipykernel_33981/1819034514.py:4: VisibleDeprecationWarning: Creating an ndarray from ragged nested sequences (which is a list-or-tuple of lists-or-tuples-or ndarrays with different lengths or shapes) is deprecated. If you meant to do this, you must specify 'dtype=object' when creating the ndarray.\n",
      "  weighted_sample = np.random.choice(list(VS), size=T, replace=True, p=p)\n"
     ]
    }
   ],
   "source": [
    "beta = 1\n",
    "p = np.array([np.exp(-beta*len(h)) for h in VS])\n",
    "p = p / sum(p)\n",
    "weighted_sample = np.random.choice(list(VS), size=T, replace=True, p=p)"
   ],
   "metadata": {
    "collapsed": false
   }
  },
  {
   "cell_type": "code",
   "execution_count": 37,
   "outputs": [],
   "source": [
    "y_pred = np.array([sum([any([r.covers(x) for r in h]) for h in uniform_sample]) >= T // 2 for x in X_test])"
   ],
   "metadata": {
    "collapsed": false
   }
  },
  {
   "cell_type": "code",
   "execution_count": 38,
   "outputs": [
    {
     "data": {
      "text/plain": "1.0"
     },
     "execution_count": 38,
     "metadata": {},
     "output_type": "execute_result"
    }
   ],
   "source": [
    "from sklearn.metrics import accuracy_score\n",
    "accuracy_score(y_pred, y_test)"
   ],
   "metadata": {
    "collapsed": false
   }
  }
 ],
 "metadata": {
  "kernelspec": {
   "display_name": "Python 3",
   "language": "python",
   "name": "python3"
  },
  "language_info": {
   "codemirror_mode": {
    "name": "ipython",
    "version": 2
   },
   "file_extension": ".py",
   "mimetype": "text/x-python",
   "name": "python",
   "nbconvert_exporter": "python",
   "pygments_lexer": "ipython2",
   "version": "2.7.6"
  }
 },
 "nbformat": 4,
 "nbformat_minor": 0
}
