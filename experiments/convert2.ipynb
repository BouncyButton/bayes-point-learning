{
 "cells": [
  {
   "cell_type": "code",
   "execution_count": 40,
   "metadata": {
    "collapsed": true
   },
   "outputs": [
    {
     "ename": "KeyError",
     "evalue": "\"['model'] not found in axis\"",
     "output_type": "error",
     "traceback": [
      "\u001B[0;31m---------------------------------------------------------------------------\u001B[0m",
      "\u001B[0;31mKeyError\u001B[0m                                  Traceback (most recent call last)",
      "Cell \u001B[0;32mIn[40], line 5\u001B[0m\n\u001B[1;32m      2\u001B[0m \u001B[38;5;28;01mimport\u001B[39;00m \u001B[38;5;21;01mpandas\u001B[39;00m \u001B[38;5;28;01mas\u001B[39;00m \u001B[38;5;21;01mpd\u001B[39;00m\n\u001B[1;32m      4\u001B[0m df1 \u001B[38;5;241m=\u001B[39m pd\u001B[38;5;241m.\u001B[39mread_pickle(\u001B[38;5;124m'\u001B[39m\u001B[38;5;124mmerged.pkl\u001B[39m\u001B[38;5;124m'\u001B[39m)\n\u001B[0;32m----> 5\u001B[0m df1 \u001B[38;5;241m=\u001B[39m \u001B[43mdf1\u001B[49m\u001B[38;5;241;43m.\u001B[39;49m\u001B[43mdrop\u001B[49m\u001B[43m(\u001B[49m\u001B[43mcolumns\u001B[49m\u001B[38;5;241;43m=\u001B[39;49m\u001B[43m[\u001B[49m\u001B[38;5;124;43m'\u001B[39;49m\u001B[38;5;124;43mmodel\u001B[39;49m\u001B[38;5;124;43m'\u001B[39;49m\u001B[43m]\u001B[49m\u001B[43m)\u001B[49m\n",
      "File \u001B[0;32m~/miniconda3/envs/corels10/lib/python3.10/site-packages/pandas/util/_decorators.py:331\u001B[0m, in \u001B[0;36mdeprecate_nonkeyword_arguments.<locals>.decorate.<locals>.wrapper\u001B[0;34m(*args, **kwargs)\u001B[0m\n\u001B[1;32m    325\u001B[0m \u001B[38;5;28;01mif\u001B[39;00m \u001B[38;5;28mlen\u001B[39m(args) \u001B[38;5;241m>\u001B[39m num_allow_args:\n\u001B[1;32m    326\u001B[0m     warnings\u001B[38;5;241m.\u001B[39mwarn(\n\u001B[1;32m    327\u001B[0m         msg\u001B[38;5;241m.\u001B[39mformat(arguments\u001B[38;5;241m=\u001B[39m_format_argument_list(allow_args)),\n\u001B[1;32m    328\u001B[0m         \u001B[38;5;167;01mFutureWarning\u001B[39;00m,\n\u001B[1;32m    329\u001B[0m         stacklevel\u001B[38;5;241m=\u001B[39mfind_stack_level(),\n\u001B[1;32m    330\u001B[0m     )\n\u001B[0;32m--> 331\u001B[0m \u001B[38;5;28;01mreturn\u001B[39;00m \u001B[43mfunc\u001B[49m\u001B[43m(\u001B[49m\u001B[38;5;241;43m*\u001B[39;49m\u001B[43margs\u001B[49m\u001B[43m,\u001B[49m\u001B[43m \u001B[49m\u001B[38;5;241;43m*\u001B[39;49m\u001B[38;5;241;43m*\u001B[39;49m\u001B[43mkwargs\u001B[49m\u001B[43m)\u001B[49m\n",
      "File \u001B[0;32m~/miniconda3/envs/corels10/lib/python3.10/site-packages/pandas/core/frame.py:5399\u001B[0m, in \u001B[0;36mDataFrame.drop\u001B[0;34m(self, labels, axis, index, columns, level, inplace, errors)\u001B[0m\n\u001B[1;32m   5251\u001B[0m \u001B[38;5;129m@deprecate_nonkeyword_arguments\u001B[39m(version\u001B[38;5;241m=\u001B[39m\u001B[38;5;28;01mNone\u001B[39;00m, allowed_args\u001B[38;5;241m=\u001B[39m[\u001B[38;5;124m\"\u001B[39m\u001B[38;5;124mself\u001B[39m\u001B[38;5;124m\"\u001B[39m, \u001B[38;5;124m\"\u001B[39m\u001B[38;5;124mlabels\u001B[39m\u001B[38;5;124m\"\u001B[39m])\n\u001B[1;32m   5252\u001B[0m \u001B[38;5;28;01mdef\u001B[39;00m \u001B[38;5;21mdrop\u001B[39m(  \u001B[38;5;66;03m# type: ignore[override]\u001B[39;00m\n\u001B[1;32m   5253\u001B[0m     \u001B[38;5;28mself\u001B[39m,\n\u001B[0;32m   (...)\u001B[0m\n\u001B[1;32m   5260\u001B[0m     errors: IgnoreRaise \u001B[38;5;241m=\u001B[39m \u001B[38;5;124m\"\u001B[39m\u001B[38;5;124mraise\u001B[39m\u001B[38;5;124m\"\u001B[39m,\n\u001B[1;32m   5261\u001B[0m ) \u001B[38;5;241m-\u001B[39m\u001B[38;5;241m>\u001B[39m DataFrame \u001B[38;5;241m|\u001B[39m \u001B[38;5;28;01mNone\u001B[39;00m:\n\u001B[1;32m   5262\u001B[0m     \u001B[38;5;124;03m\"\"\"\u001B[39;00m\n\u001B[1;32m   5263\u001B[0m \u001B[38;5;124;03m    Drop specified labels from rows or columns.\u001B[39;00m\n\u001B[1;32m   5264\u001B[0m \n\u001B[0;32m   (...)\u001B[0m\n\u001B[1;32m   5397\u001B[0m \u001B[38;5;124;03m            weight  1.0     0.8\u001B[39;00m\n\u001B[1;32m   5398\u001B[0m \u001B[38;5;124;03m    \"\"\"\u001B[39;00m\n\u001B[0;32m-> 5399\u001B[0m     \u001B[38;5;28;01mreturn\u001B[39;00m \u001B[38;5;28;43msuper\u001B[39;49m\u001B[43m(\u001B[49m\u001B[43m)\u001B[49m\u001B[38;5;241;43m.\u001B[39;49m\u001B[43mdrop\u001B[49m\u001B[43m(\u001B[49m\n\u001B[1;32m   5400\u001B[0m \u001B[43m        \u001B[49m\u001B[43mlabels\u001B[49m\u001B[38;5;241;43m=\u001B[39;49m\u001B[43mlabels\u001B[49m\u001B[43m,\u001B[49m\n\u001B[1;32m   5401\u001B[0m \u001B[43m        \u001B[49m\u001B[43maxis\u001B[49m\u001B[38;5;241;43m=\u001B[39;49m\u001B[43maxis\u001B[49m\u001B[43m,\u001B[49m\n\u001B[1;32m   5402\u001B[0m \u001B[43m        \u001B[49m\u001B[43mindex\u001B[49m\u001B[38;5;241;43m=\u001B[39;49m\u001B[43mindex\u001B[49m\u001B[43m,\u001B[49m\n\u001B[1;32m   5403\u001B[0m \u001B[43m        \u001B[49m\u001B[43mcolumns\u001B[49m\u001B[38;5;241;43m=\u001B[39;49m\u001B[43mcolumns\u001B[49m\u001B[43m,\u001B[49m\n\u001B[1;32m   5404\u001B[0m \u001B[43m        \u001B[49m\u001B[43mlevel\u001B[49m\u001B[38;5;241;43m=\u001B[39;49m\u001B[43mlevel\u001B[49m\u001B[43m,\u001B[49m\n\u001B[1;32m   5405\u001B[0m \u001B[43m        \u001B[49m\u001B[43minplace\u001B[49m\u001B[38;5;241;43m=\u001B[39;49m\u001B[43minplace\u001B[49m\u001B[43m,\u001B[49m\n\u001B[1;32m   5406\u001B[0m \u001B[43m        \u001B[49m\u001B[43merrors\u001B[49m\u001B[38;5;241;43m=\u001B[39;49m\u001B[43merrors\u001B[49m\u001B[43m,\u001B[49m\n\u001B[1;32m   5407\u001B[0m \u001B[43m    \u001B[49m\u001B[43m)\u001B[49m\n",
      "File \u001B[0;32m~/miniconda3/envs/corels10/lib/python3.10/site-packages/pandas/util/_decorators.py:331\u001B[0m, in \u001B[0;36mdeprecate_nonkeyword_arguments.<locals>.decorate.<locals>.wrapper\u001B[0;34m(*args, **kwargs)\u001B[0m\n\u001B[1;32m    325\u001B[0m \u001B[38;5;28;01mif\u001B[39;00m \u001B[38;5;28mlen\u001B[39m(args) \u001B[38;5;241m>\u001B[39m num_allow_args:\n\u001B[1;32m    326\u001B[0m     warnings\u001B[38;5;241m.\u001B[39mwarn(\n\u001B[1;32m    327\u001B[0m         msg\u001B[38;5;241m.\u001B[39mformat(arguments\u001B[38;5;241m=\u001B[39m_format_argument_list(allow_args)),\n\u001B[1;32m    328\u001B[0m         \u001B[38;5;167;01mFutureWarning\u001B[39;00m,\n\u001B[1;32m    329\u001B[0m         stacklevel\u001B[38;5;241m=\u001B[39mfind_stack_level(),\n\u001B[1;32m    330\u001B[0m     )\n\u001B[0;32m--> 331\u001B[0m \u001B[38;5;28;01mreturn\u001B[39;00m \u001B[43mfunc\u001B[49m\u001B[43m(\u001B[49m\u001B[38;5;241;43m*\u001B[39;49m\u001B[43margs\u001B[49m\u001B[43m,\u001B[49m\u001B[43m \u001B[49m\u001B[38;5;241;43m*\u001B[39;49m\u001B[38;5;241;43m*\u001B[39;49m\u001B[43mkwargs\u001B[49m\u001B[43m)\u001B[49m\n",
      "File \u001B[0;32m~/miniconda3/envs/corels10/lib/python3.10/site-packages/pandas/core/generic.py:4505\u001B[0m, in \u001B[0;36mNDFrame.drop\u001B[0;34m(self, labels, axis, index, columns, level, inplace, errors)\u001B[0m\n\u001B[1;32m   4503\u001B[0m \u001B[38;5;28;01mfor\u001B[39;00m axis, labels \u001B[38;5;129;01min\u001B[39;00m axes\u001B[38;5;241m.\u001B[39mitems():\n\u001B[1;32m   4504\u001B[0m     \u001B[38;5;28;01mif\u001B[39;00m labels \u001B[38;5;129;01mis\u001B[39;00m \u001B[38;5;129;01mnot\u001B[39;00m \u001B[38;5;28;01mNone\u001B[39;00m:\n\u001B[0;32m-> 4505\u001B[0m         obj \u001B[38;5;241m=\u001B[39m \u001B[43mobj\u001B[49m\u001B[38;5;241;43m.\u001B[39;49m\u001B[43m_drop_axis\u001B[49m\u001B[43m(\u001B[49m\u001B[43mlabels\u001B[49m\u001B[43m,\u001B[49m\u001B[43m \u001B[49m\u001B[43maxis\u001B[49m\u001B[43m,\u001B[49m\u001B[43m \u001B[49m\u001B[43mlevel\u001B[49m\u001B[38;5;241;43m=\u001B[39;49m\u001B[43mlevel\u001B[49m\u001B[43m,\u001B[49m\u001B[43m \u001B[49m\u001B[43merrors\u001B[49m\u001B[38;5;241;43m=\u001B[39;49m\u001B[43merrors\u001B[49m\u001B[43m)\u001B[49m\n\u001B[1;32m   4507\u001B[0m \u001B[38;5;28;01mif\u001B[39;00m inplace:\n\u001B[1;32m   4508\u001B[0m     \u001B[38;5;28mself\u001B[39m\u001B[38;5;241m.\u001B[39m_update_inplace(obj)\n",
      "File \u001B[0;32m~/miniconda3/envs/corels10/lib/python3.10/site-packages/pandas/core/generic.py:4546\u001B[0m, in \u001B[0;36mNDFrame._drop_axis\u001B[0;34m(self, labels, axis, level, errors, only_slice)\u001B[0m\n\u001B[1;32m   4544\u001B[0m         new_axis \u001B[38;5;241m=\u001B[39m axis\u001B[38;5;241m.\u001B[39mdrop(labels, level\u001B[38;5;241m=\u001B[39mlevel, errors\u001B[38;5;241m=\u001B[39merrors)\n\u001B[1;32m   4545\u001B[0m     \u001B[38;5;28;01melse\u001B[39;00m:\n\u001B[0;32m-> 4546\u001B[0m         new_axis \u001B[38;5;241m=\u001B[39m \u001B[43maxis\u001B[49m\u001B[38;5;241;43m.\u001B[39;49m\u001B[43mdrop\u001B[49m\u001B[43m(\u001B[49m\u001B[43mlabels\u001B[49m\u001B[43m,\u001B[49m\u001B[43m \u001B[49m\u001B[43merrors\u001B[49m\u001B[38;5;241;43m=\u001B[39;49m\u001B[43merrors\u001B[49m\u001B[43m)\u001B[49m\n\u001B[1;32m   4547\u001B[0m     indexer \u001B[38;5;241m=\u001B[39m axis\u001B[38;5;241m.\u001B[39mget_indexer(new_axis)\n\u001B[1;32m   4549\u001B[0m \u001B[38;5;66;03m# Case for non-unique axis\u001B[39;00m\n\u001B[1;32m   4550\u001B[0m \u001B[38;5;28;01melse\u001B[39;00m:\n",
      "File \u001B[0;32m~/miniconda3/envs/corels10/lib/python3.10/site-packages/pandas/core/indexes/base.py:6934\u001B[0m, in \u001B[0;36mIndex.drop\u001B[0;34m(self, labels, errors)\u001B[0m\n\u001B[1;32m   6932\u001B[0m \u001B[38;5;28;01mif\u001B[39;00m mask\u001B[38;5;241m.\u001B[39many():\n\u001B[1;32m   6933\u001B[0m     \u001B[38;5;28;01mif\u001B[39;00m errors \u001B[38;5;241m!=\u001B[39m \u001B[38;5;124m\"\u001B[39m\u001B[38;5;124mignore\u001B[39m\u001B[38;5;124m\"\u001B[39m:\n\u001B[0;32m-> 6934\u001B[0m         \u001B[38;5;28;01mraise\u001B[39;00m \u001B[38;5;167;01mKeyError\u001B[39;00m(\u001B[38;5;124mf\u001B[39m\u001B[38;5;124m\"\u001B[39m\u001B[38;5;132;01m{\u001B[39;00m\u001B[38;5;28mlist\u001B[39m(labels[mask])\u001B[38;5;132;01m}\u001B[39;00m\u001B[38;5;124m not found in axis\u001B[39m\u001B[38;5;124m\"\u001B[39m)\n\u001B[1;32m   6935\u001B[0m     indexer \u001B[38;5;241m=\u001B[39m indexer[\u001B[38;5;241m~\u001B[39mmask]\n\u001B[1;32m   6936\u001B[0m \u001B[38;5;28;01mreturn\u001B[39;00m \u001B[38;5;28mself\u001B[39m\u001B[38;5;241m.\u001B[39mdelete(indexer)\n",
      "\u001B[0;31mKeyError\u001B[0m: \"['model'] not found in axis\""
     ]
    }
   ],
   "source": [
    "# i got two files that i want to join, and also i prefer removing the field 'model' since it takes a lot of space\n",
    "import pandas as pd\n",
    "\n",
    "df1 = pd.read_pickle('merged.pkl')\n",
    "#df1 = df1.drop(columns=['model'])\n"
   ]
  },
  {
   "cell_type": "code",
   "execution_count": 90,
   "outputs": [],
   "source": [
    "df2 = pd.read_pickle('find-rs-ripper-100-inc.pkl')\n",
    "df2 = df2.drop(columns=['model'])"
   ],
   "metadata": {
    "collapsed": false
   }
  },
  {
   "cell_type": "code",
   "execution_count": 91,
   "outputs": [],
   "source": [
    "df2['method'] = df2['method'].apply(lambda x: x.replace('FindRSGridSearch', 'Find-RS'))\n"
   ],
   "metadata": {
    "collapsed": false
   }
  },
  {
   "cell_type": "code",
   "execution_count": 92,
   "outputs": [],
   "source": [
    "\n",
    "# join the two dataframes; merge on all columns, prefer df2 values\n",
    "df = df1.merge(df2, how='outer', on=['dataset', 'method', 'strategy', 'encoding', 'seed'], suffixes=('', '-new'))\n"
   ],
   "metadata": {
    "collapsed": false
   }
  },
  {
   "cell_type": "code",
   "execution_count": 93,
   "outputs": [
    {
     "name": "stdout",
     "output_type": "stream",
     "text": [
      "        dataset  dataset_size-old encoding  seed strategy   method  \\\n",
      "0           TTT               0.5       av   0.0   single  Find-RS   \n",
      "1           TTT               0.5       av   0.0       bo  Find-RS   \n",
      "2           TTT               0.5       av   0.0       bp  Find-RS   \n",
      "3           TTT               0.5       av   0.0   best-k  Find-RS   \n",
      "4           TTT               0.5      ohe   0.0   single  Find-RS   \n",
      "...         ...               ...      ...   ...      ...      ...   \n",
      "5388  CONNECT-4               NaN       av   3.0   single      SVM   \n",
      "5389  CONNECT-4               NaN       av   3.0   single       RF   \n",
      "5390  CONNECT-4               NaN       av   3.0   single  Find-RS   \n",
      "5391  CONNECT-4               NaN       av   3.0       bo  Find-RS   \n",
      "5392  CONNECT-4               NaN       av   3.0       bp  Find-RS   \n",
      "\n",
      "      accuracy-old    f1-old  avg_rule_len-old  avg_ruleset_len-old  ...  \\\n",
      "0          1.00000  1.000000          3.000000                  8.0  ...   \n",
      "1          1.00000  1.000000          3.000000                  8.0  ...   \n",
      "2          1.00000  1.000000          3.000000                  8.0  ...   \n",
      "3          1.00000  1.000000          3.000000                  8.0  ...   \n",
      "4          0.93737  0.951613         10.571429                 14.0  ...   \n",
      "...            ...       ...               ...                  ...  ...   \n",
      "5388           NaN       NaN               NaN                  NaN  ...   \n",
      "5389           NaN       NaN               NaN                  NaN  ...   \n",
      "5390           NaN       NaN               NaN                  NaN  ...   \n",
      "5391           NaN       NaN               NaN                  NaN  ...   \n",
      "5392           NaN       NaN               NaN                  NaN  ...   \n",
      "\n",
      "            f1  avg_rule_len  avg_ruleset_len      T  dataset_size-new  \\\n",
      "0     1.000000      3.000000             8.00  100.0               0.5   \n",
      "1     1.000000      3.000000             8.00  100.0               0.5   \n",
      "2     1.000000      3.000000             8.00  100.0               0.5   \n",
      "3     1.000000      3.000000             8.00  100.0               0.5   \n",
      "4     0.951613     10.571429            14.00  100.0               0.5   \n",
      "...        ...           ...              ...    ...               ...   \n",
      "5388  0.914927           NaN              NaN    1.0               NaN   \n",
      "5389  0.901650           NaN              NaN    1.0               NaN   \n",
      "5390  0.848712     34.587802          1902.00   20.0               NaN   \n",
      "5391  0.891972     34.700937          1884.55   20.0               NaN   \n",
      "5392  0.896349     34.649663         31778.00   20.0               NaN   \n",
      "\n",
      "      accuracy-new  f1-new  avg_rule_len-new  avg_ruleset_len-new  T-new  \n",
      "0              1.0     1.0               3.0                  8.0  100.0  \n",
      "1              1.0     1.0               3.0                  8.0  100.0  \n",
      "2              1.0     1.0               3.0                  8.0  100.0  \n",
      "3              1.0     1.0               3.0                  8.0  100.0  \n",
      "4              1.0     1.0               3.0                  8.0  100.0  \n",
      "...            ...     ...               ...                  ...    ...  \n",
      "5388           NaN     NaN               NaN                  NaN    NaN  \n",
      "5389           NaN     NaN               NaN                  NaN    NaN  \n",
      "5390           NaN     NaN               NaN                  NaN    NaN  \n",
      "5391           NaN     NaN               NaN                  NaN    NaN  \n",
      "5392           NaN     NaN               NaN                  NaN    NaN  \n",
      "\n",
      "[5393 rows x 23 columns]\n"
     ]
    }
   ],
   "source": [
    "print(df)"
   ],
   "metadata": {
    "collapsed": false
   }
  },
  {
   "cell_type": "code",
   "execution_count": 94,
   "outputs": [],
   "source": [
    "for column_name in ['dataset_size', 'accuracy', 'f1', 'avg_rule_len', 'avg_ruleset_len', 'T']:\n",
    "    df[column_name] = df[column_name + '-new'].fillna(df[column_name])# .where(df[column_name + '-new'].notna())\n"
   ],
   "metadata": {
    "collapsed": false
   }
  },
  {
   "cell_type": "code",
   "execution_count": 95,
   "outputs": [
    {
     "name": "stdout",
     "output_type": "stream",
     "text": [
      "Index(['dataset', 'dataset_size-old', 'encoding', 'seed', 'strategy', 'method',\n",
      "       'accuracy-old', 'f1-old', 'avg_rule_len-old', 'avg_ruleset_len-old',\n",
      "       'T-old', 'dataset_size', 'accuracy', 'f1', 'avg_rule_len',\n",
      "       'avg_ruleset_len', 'T', 'dataset_size-new', 'accuracy-new', 'f1-new',\n",
      "       'avg_rule_len-new', 'avg_ruleset_len-new', 'T-new'],\n",
      "      dtype='object')\n"
     ]
    }
   ],
   "source": [
    "print(df.columns)"
   ],
   "metadata": {
    "collapsed": false
   }
  },
  {
   "cell_type": "markdown",
   "source": [],
   "metadata": {
    "collapsed": false
   }
  },
  {
   "cell_type": "code",
   "execution_count": 96,
   "outputs": [],
   "source": [
    "\n",
    "# persist data\n",
    "df.to_pickle('find-rs-100-ripper-100-inc-merged.pkl')"
   ],
   "metadata": {
    "collapsed": false
   }
  },
  {
   "cell_type": "code",
   "execution_count": 89,
   "outputs": [
    {
     "data": {
      "text/plain": "        dataset  dataset_size-old encoding  seed strategy   method  \\\n0           TTT               0.5       av   0.0   single  Find-RS   \n1           TTT               0.5       av   0.0       bo  Find-RS   \n2           TTT               0.5       av   0.0       bp  Find-RS   \n3           TTT               0.5       av   0.0   best-k  Find-RS   \n4           TTT               0.5      ohe   0.0   single  Find-RS   \n...         ...               ...      ...   ...      ...      ...   \n5388  CONNECT-4               NaN       av   3.0   single      SVM   \n5389  CONNECT-4               NaN       av   3.0   single       RF   \n5390  CONNECT-4               NaN       av   3.0   single  Find-RS   \n5391  CONNECT-4               NaN       av   3.0       bo  Find-RS   \n5392  CONNECT-4               NaN       av   3.0       bp  Find-RS   \n\n      accuracy-old    f1-old  avg_rule_len-old  avg_ruleset_len-old  ...  \\\n0          1.00000  1.000000          3.000000                  8.0  ...   \n1          1.00000  1.000000          3.000000                  8.0  ...   \n2          1.00000  1.000000          3.000000                  8.0  ...   \n3          1.00000  1.000000          3.000000                  8.0  ...   \n4          0.93737  0.951613         10.571429                 14.0  ...   \n...            ...       ...               ...                  ...  ...   \n5388           NaN       NaN               NaN                  NaN  ...   \n5389           NaN       NaN               NaN                  NaN  ...   \n5390           NaN       NaN               NaN                  NaN  ...   \n5391           NaN       NaN               NaN                  NaN  ...   \n5392           NaN       NaN               NaN                  NaN  ...   \n\n            f1  avg_rule_len  avg_ruleset_len      T  dataset_size-new  \\\n0     1.000000      3.000000             8.00  100.0               0.5   \n1     1.000000      3.000000             8.00  100.0               0.5   \n2     1.000000      3.000000             8.00  100.0               0.5   \n3     1.000000      3.000000             8.00  100.0               0.5   \n4     1.000000      3.000000             8.00  100.0               0.5   \n...        ...           ...              ...    ...               ...   \n5388  0.914927           NaN              NaN    1.0               NaN   \n5389  0.901650           NaN              NaN    1.0               NaN   \n5390  0.848712     34.587802          1902.00   20.0               NaN   \n5391  0.891972     34.700937          1884.55   20.0               NaN   \n5392  0.896349     34.649663         31778.00   20.0               NaN   \n\n      accuracy-new  f1-new  avg_rule_len-new  avg_ruleset_len-new  T-new  \n0              1.0     1.0               3.0                  8.0  100.0  \n1              1.0     1.0               3.0                  8.0  100.0  \n2              1.0     1.0               3.0                  8.0  100.0  \n3              1.0     1.0               3.0                  8.0  100.0  \n4              1.0     1.0               3.0                  8.0  100.0  \n...            ...     ...               ...                  ...    ...  \n5388           NaN     NaN               NaN                  NaN    NaN  \n5389           NaN     NaN               NaN                  NaN    NaN  \n5390           NaN     NaN               NaN                  NaN    NaN  \n5391           NaN     NaN               NaN                  NaN    NaN  \n5392           NaN     NaN               NaN                  NaN    NaN  \n\n[5393 rows x 23 columns]",
      "text/html": "<div>\n<style scoped>\n    .dataframe tbody tr th:only-of-type {\n        vertical-align: middle;\n    }\n\n    .dataframe tbody tr th {\n        vertical-align: top;\n    }\n\n    .dataframe thead th {\n        text-align: right;\n    }\n</style>\n<table border=\"1\" class=\"dataframe\">\n  <thead>\n    <tr style=\"text-align: right;\">\n      <th></th>\n      <th>dataset</th>\n      <th>dataset_size-old</th>\n      <th>encoding</th>\n      <th>seed</th>\n      <th>strategy</th>\n      <th>method</th>\n      <th>accuracy-old</th>\n      <th>f1-old</th>\n      <th>avg_rule_len-old</th>\n      <th>avg_ruleset_len-old</th>\n      <th>...</th>\n      <th>f1</th>\n      <th>avg_rule_len</th>\n      <th>avg_ruleset_len</th>\n      <th>T</th>\n      <th>dataset_size-new</th>\n      <th>accuracy-new</th>\n      <th>f1-new</th>\n      <th>avg_rule_len-new</th>\n      <th>avg_ruleset_len-new</th>\n      <th>T-new</th>\n    </tr>\n  </thead>\n  <tbody>\n    <tr>\n      <th>0</th>\n      <td>TTT</td>\n      <td>0.5</td>\n      <td>av</td>\n      <td>0.0</td>\n      <td>single</td>\n      <td>Find-RS</td>\n      <td>1.00000</td>\n      <td>1.000000</td>\n      <td>3.000000</td>\n      <td>8.0</td>\n      <td>...</td>\n      <td>1.000000</td>\n      <td>3.000000</td>\n      <td>8.00</td>\n      <td>100.0</td>\n      <td>0.5</td>\n      <td>1.0</td>\n      <td>1.0</td>\n      <td>3.0</td>\n      <td>8.0</td>\n      <td>100.0</td>\n    </tr>\n    <tr>\n      <th>1</th>\n      <td>TTT</td>\n      <td>0.5</td>\n      <td>av</td>\n      <td>0.0</td>\n      <td>bo</td>\n      <td>Find-RS</td>\n      <td>1.00000</td>\n      <td>1.000000</td>\n      <td>3.000000</td>\n      <td>8.0</td>\n      <td>...</td>\n      <td>1.000000</td>\n      <td>3.000000</td>\n      <td>8.00</td>\n      <td>100.0</td>\n      <td>0.5</td>\n      <td>1.0</td>\n      <td>1.0</td>\n      <td>3.0</td>\n      <td>8.0</td>\n      <td>100.0</td>\n    </tr>\n    <tr>\n      <th>2</th>\n      <td>TTT</td>\n      <td>0.5</td>\n      <td>av</td>\n      <td>0.0</td>\n      <td>bp</td>\n      <td>Find-RS</td>\n      <td>1.00000</td>\n      <td>1.000000</td>\n      <td>3.000000</td>\n      <td>8.0</td>\n      <td>...</td>\n      <td>1.000000</td>\n      <td>3.000000</td>\n      <td>8.00</td>\n      <td>100.0</td>\n      <td>0.5</td>\n      <td>1.0</td>\n      <td>1.0</td>\n      <td>3.0</td>\n      <td>8.0</td>\n      <td>100.0</td>\n    </tr>\n    <tr>\n      <th>3</th>\n      <td>TTT</td>\n      <td>0.5</td>\n      <td>av</td>\n      <td>0.0</td>\n      <td>best-k</td>\n      <td>Find-RS</td>\n      <td>1.00000</td>\n      <td>1.000000</td>\n      <td>3.000000</td>\n      <td>8.0</td>\n      <td>...</td>\n      <td>1.000000</td>\n      <td>3.000000</td>\n      <td>8.00</td>\n      <td>100.0</td>\n      <td>0.5</td>\n      <td>1.0</td>\n      <td>1.0</td>\n      <td>3.0</td>\n      <td>8.0</td>\n      <td>100.0</td>\n    </tr>\n    <tr>\n      <th>4</th>\n      <td>TTT</td>\n      <td>0.5</td>\n      <td>ohe</td>\n      <td>0.0</td>\n      <td>single</td>\n      <td>Find-RS</td>\n      <td>0.93737</td>\n      <td>0.951613</td>\n      <td>10.571429</td>\n      <td>14.0</td>\n      <td>...</td>\n      <td>1.000000</td>\n      <td>3.000000</td>\n      <td>8.00</td>\n      <td>100.0</td>\n      <td>0.5</td>\n      <td>1.0</td>\n      <td>1.0</td>\n      <td>3.0</td>\n      <td>8.0</td>\n      <td>100.0</td>\n    </tr>\n    <tr>\n      <th>...</th>\n      <td>...</td>\n      <td>...</td>\n      <td>...</td>\n      <td>...</td>\n      <td>...</td>\n      <td>...</td>\n      <td>...</td>\n      <td>...</td>\n      <td>...</td>\n      <td>...</td>\n      <td>...</td>\n      <td>...</td>\n      <td>...</td>\n      <td>...</td>\n      <td>...</td>\n      <td>...</td>\n      <td>...</td>\n      <td>...</td>\n      <td>...</td>\n      <td>...</td>\n      <td>...</td>\n    </tr>\n    <tr>\n      <th>5388</th>\n      <td>CONNECT-4</td>\n      <td>NaN</td>\n      <td>av</td>\n      <td>3.0</td>\n      <td>single</td>\n      <td>SVM</td>\n      <td>NaN</td>\n      <td>NaN</td>\n      <td>NaN</td>\n      <td>NaN</td>\n      <td>...</td>\n      <td>0.914927</td>\n      <td>NaN</td>\n      <td>NaN</td>\n      <td>1.0</td>\n      <td>NaN</td>\n      <td>NaN</td>\n      <td>NaN</td>\n      <td>NaN</td>\n      <td>NaN</td>\n      <td>NaN</td>\n    </tr>\n    <tr>\n      <th>5389</th>\n      <td>CONNECT-4</td>\n      <td>NaN</td>\n      <td>av</td>\n      <td>3.0</td>\n      <td>single</td>\n      <td>RF</td>\n      <td>NaN</td>\n      <td>NaN</td>\n      <td>NaN</td>\n      <td>NaN</td>\n      <td>...</td>\n      <td>0.901650</td>\n      <td>NaN</td>\n      <td>NaN</td>\n      <td>1.0</td>\n      <td>NaN</td>\n      <td>NaN</td>\n      <td>NaN</td>\n      <td>NaN</td>\n      <td>NaN</td>\n      <td>NaN</td>\n    </tr>\n    <tr>\n      <th>5390</th>\n      <td>CONNECT-4</td>\n      <td>NaN</td>\n      <td>av</td>\n      <td>3.0</td>\n      <td>single</td>\n      <td>Find-RS</td>\n      <td>NaN</td>\n      <td>NaN</td>\n      <td>NaN</td>\n      <td>NaN</td>\n      <td>...</td>\n      <td>0.848712</td>\n      <td>34.587802</td>\n      <td>1902.00</td>\n      <td>20.0</td>\n      <td>NaN</td>\n      <td>NaN</td>\n      <td>NaN</td>\n      <td>NaN</td>\n      <td>NaN</td>\n      <td>NaN</td>\n    </tr>\n    <tr>\n      <th>5391</th>\n      <td>CONNECT-4</td>\n      <td>NaN</td>\n      <td>av</td>\n      <td>3.0</td>\n      <td>bo</td>\n      <td>Find-RS</td>\n      <td>NaN</td>\n      <td>NaN</td>\n      <td>NaN</td>\n      <td>NaN</td>\n      <td>...</td>\n      <td>0.891972</td>\n      <td>34.700937</td>\n      <td>1884.55</td>\n      <td>20.0</td>\n      <td>NaN</td>\n      <td>NaN</td>\n      <td>NaN</td>\n      <td>NaN</td>\n      <td>NaN</td>\n      <td>NaN</td>\n    </tr>\n    <tr>\n      <th>5392</th>\n      <td>CONNECT-4</td>\n      <td>NaN</td>\n      <td>av</td>\n      <td>3.0</td>\n      <td>bp</td>\n      <td>Find-RS</td>\n      <td>NaN</td>\n      <td>NaN</td>\n      <td>NaN</td>\n      <td>NaN</td>\n      <td>...</td>\n      <td>0.896349</td>\n      <td>34.649663</td>\n      <td>31778.00</td>\n      <td>20.0</td>\n      <td>NaN</td>\n      <td>NaN</td>\n      <td>NaN</td>\n      <td>NaN</td>\n      <td>NaN</td>\n      <td>NaN</td>\n    </tr>\n  </tbody>\n</table>\n<p>5393 rows × 23 columns</p>\n</div>"
     },
     "execution_count": 89,
     "metadata": {},
     "output_type": "execute_result"
    }
   ],
   "source": [
    "df"
   ],
   "metadata": {
    "collapsed": false
   }
  },
  {
   "cell_type": "code",
   "execution_count": null,
   "outputs": [],
   "source": [],
   "metadata": {
    "collapsed": false
   }
  }
 ],
 "metadata": {
  "kernelspec": {
   "display_name": "Python 3",
   "language": "python",
   "name": "python3"
  },
  "language_info": {
   "codemirror_mode": {
    "name": "ipython",
    "version": 2
   },
   "file_extension": ".py",
   "mimetype": "text/x-python",
   "name": "python",
   "nbconvert_exporter": "python",
   "pygments_lexer": "ipython2",
   "version": "2.7.6"
  }
 },
 "nbformat": 4,
 "nbformat_minor": 0
}
