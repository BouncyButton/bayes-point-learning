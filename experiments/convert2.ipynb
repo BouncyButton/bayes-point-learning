{
 "cells": [
  {
   "cell_type": "code",
   "execution_count": 1,
   "metadata": {
    "collapsed": true
   },
   "outputs": [],
   "source": [
    "# i got two files that i want to join, and also i prefer removing the field 'model' since it takes a lot of space\n",
    "import pandas as pd\n",
    "\n",
    "df1 = pd.read_pickle('newnew-fixed.pkl')\n",
    "#df1 = df1.drop(columns=['model'])\n"
   ]
  },
  {
   "cell_type": "code",
   "execution_count": 2,
   "outputs": [
    {
     "ename": "KeyboardInterrupt",
     "evalue": "",
     "output_type": "error",
     "traceback": [
      "\u001B[0;31m---------------------------------------------------------------------------\u001B[0m",
      "\u001B[0;31mKeyboardInterrupt\u001B[0m                         Traceback (most recent call last)",
      "Cell \u001B[0;32mIn[2], line 1\u001B[0m\n\u001B[0;32m----> 1\u001B[0m \u001B[43mdf1\u001B[49m\u001B[38;5;241m.\u001B[39mcolumns\n",
      "Cell \u001B[0;32mIn[2], line 1\u001B[0m\n\u001B[0;32m----> 1\u001B[0m \u001B[43mdf1\u001B[49m\u001B[38;5;241m.\u001B[39mcolumns\n",
      "File \u001B[0;32m_pydevd_bundle/pydevd_cython_darwin_310_64.pyx:1179\u001B[0m, in \u001B[0;36m_pydevd_bundle.pydevd_cython_darwin_310_64.SafeCallWrapper.__call__\u001B[0;34m()\u001B[0m\n",
      "File \u001B[0;32m_pydevd_bundle/pydevd_cython_darwin_310_64.pyx:620\u001B[0m, in \u001B[0;36m_pydevd_bundle.pydevd_cython_darwin_310_64.PyDBFrame.trace_dispatch\u001B[0;34m()\u001B[0m\n",
      "File \u001B[0;32m_pydevd_bundle/pydevd_cython_darwin_310_64.pyx:929\u001B[0m, in \u001B[0;36m_pydevd_bundle.pydevd_cython_darwin_310_64.PyDBFrame.trace_dispatch\u001B[0;34m()\u001B[0m\n",
      "File \u001B[0;32m_pydevd_bundle/pydevd_cython_darwin_310_64.pyx:920\u001B[0m, in \u001B[0;36m_pydevd_bundle.pydevd_cython_darwin_310_64.PyDBFrame.trace_dispatch\u001B[0;34m()\u001B[0m\n",
      "File \u001B[0;32m_pydevd_bundle/pydevd_cython_darwin_310_64.pyx:317\u001B[0m, in \u001B[0;36m_pydevd_bundle.pydevd_cython_darwin_310_64.PyDBFrame.do_wait_suspend\u001B[0;34m()\u001B[0m\n",
      "File \u001B[0;32m/Applications/PyCharm.app/Contents/plugins/python/helpers/pydev/pydevd.py:1160\u001B[0m, in \u001B[0;36mPyDB.do_wait_suspend\u001B[0;34m(self, thread, frame, event, arg, send_suspend_message, is_unhandled_exception)\u001B[0m\n\u001B[1;32m   1157\u001B[0m         from_this_thread\u001B[38;5;241m.\u001B[39mappend(frame_id)\n\u001B[1;32m   1159\u001B[0m \u001B[38;5;28;01mwith\u001B[39;00m \u001B[38;5;28mself\u001B[39m\u001B[38;5;241m.\u001B[39m_threads_suspended_single_notification\u001B[38;5;241m.\u001B[39mnotify_thread_suspended(thread_id, stop_reason):\n\u001B[0;32m-> 1160\u001B[0m     \u001B[38;5;28;43mself\u001B[39;49m\u001B[38;5;241;43m.\u001B[39;49m\u001B[43m_do_wait_suspend\u001B[49m\u001B[43m(\u001B[49m\u001B[43mthread\u001B[49m\u001B[43m,\u001B[49m\u001B[43m \u001B[49m\u001B[43mframe\u001B[49m\u001B[43m,\u001B[49m\u001B[43m \u001B[49m\u001B[43mevent\u001B[49m\u001B[43m,\u001B[49m\u001B[43m \u001B[49m\u001B[43marg\u001B[49m\u001B[43m,\u001B[49m\u001B[43m \u001B[49m\u001B[43msuspend_type\u001B[49m\u001B[43m,\u001B[49m\u001B[43m \u001B[49m\u001B[43mfrom_this_thread\u001B[49m\u001B[43m)\u001B[49m\n",
      "File \u001B[0;32m/Applications/PyCharm.app/Contents/plugins/python/helpers/pydev/pydevd.py:1175\u001B[0m, in \u001B[0;36mPyDB._do_wait_suspend\u001B[0;34m(self, thread, frame, event, arg, suspend_type, from_this_thread)\u001B[0m\n\u001B[1;32m   1172\u001B[0m             \u001B[38;5;28mself\u001B[39m\u001B[38;5;241m.\u001B[39m_call_mpl_hook()\n\u001B[1;32m   1174\u001B[0m         \u001B[38;5;28mself\u001B[39m\u001B[38;5;241m.\u001B[39mprocess_internal_commands()\n\u001B[0;32m-> 1175\u001B[0m         \u001B[43mtime\u001B[49m\u001B[38;5;241;43m.\u001B[39;49m\u001B[43msleep\u001B[49m\u001B[43m(\u001B[49m\u001B[38;5;241;43m0.01\u001B[39;49m\u001B[43m)\u001B[49m\n\u001B[1;32m   1177\u001B[0m \u001B[38;5;28mself\u001B[39m\u001B[38;5;241m.\u001B[39mcancel_async_evaluation(get_current_thread_id(thread), \u001B[38;5;28mstr\u001B[39m(\u001B[38;5;28mid\u001B[39m(frame)))\n\u001B[1;32m   1179\u001B[0m \u001B[38;5;66;03m# process any stepping instructions\u001B[39;00m\n",
      "\u001B[0;31mKeyboardInterrupt\u001B[0m: "
     ]
    }
   ],
   "source": [
    "df1.columns"
   ],
   "metadata": {
    "collapsed": false
   }
  },
  {
   "cell_type": "code",
   "execution_count": 3,
   "outputs": [],
   "source": [
    "df2 = pd.read_pickle('find-rs-cv7.pkl')\n",
    "# df2 = df2.drop(columns=['model'])"
   ],
   "metadata": {
    "collapsed": false
   }
  },
  {
   "cell_type": "code",
   "execution_count": 4,
   "outputs": [
    {
     "ename": "KeyboardInterrupt",
     "evalue": "",
     "output_type": "error",
     "traceback": [
      "\u001B[0;31m---------------------------------------------------------------------------\u001B[0m",
      "\u001B[0;31mKeyboardInterrupt\u001B[0m                         Traceback (most recent call last)",
      "Cell \u001B[0;32mIn[4], line 1\u001B[0m\n\u001B[0;32m----> 1\u001B[0m \u001B[38;5;28;43mprint\u001B[39;49m()\n",
      "Cell \u001B[0;32mIn[4], line 1\u001B[0m\n\u001B[0;32m----> 1\u001B[0m \u001B[38;5;28;43mprint\u001B[39;49m()\n",
      "File \u001B[0;32m_pydevd_bundle/pydevd_cython_darwin_310_64.pyx:1179\u001B[0m, in \u001B[0;36m_pydevd_bundle.pydevd_cython_darwin_310_64.SafeCallWrapper.__call__\u001B[0;34m()\u001B[0m\n",
      "File \u001B[0;32m_pydevd_bundle/pydevd_cython_darwin_310_64.pyx:620\u001B[0m, in \u001B[0;36m_pydevd_bundle.pydevd_cython_darwin_310_64.PyDBFrame.trace_dispatch\u001B[0;34m()\u001B[0m\n",
      "File \u001B[0;32m_pydevd_bundle/pydevd_cython_darwin_310_64.pyx:929\u001B[0m, in \u001B[0;36m_pydevd_bundle.pydevd_cython_darwin_310_64.PyDBFrame.trace_dispatch\u001B[0;34m()\u001B[0m\n",
      "File \u001B[0;32m_pydevd_bundle/pydevd_cython_darwin_310_64.pyx:920\u001B[0m, in \u001B[0;36m_pydevd_bundle.pydevd_cython_darwin_310_64.PyDBFrame.trace_dispatch\u001B[0;34m()\u001B[0m\n",
      "File \u001B[0;32m_pydevd_bundle/pydevd_cython_darwin_310_64.pyx:317\u001B[0m, in \u001B[0;36m_pydevd_bundle.pydevd_cython_darwin_310_64.PyDBFrame.do_wait_suspend\u001B[0;34m()\u001B[0m\n",
      "File \u001B[0;32m/Applications/PyCharm.app/Contents/plugins/python/helpers/pydev/pydevd.py:1160\u001B[0m, in \u001B[0;36mPyDB.do_wait_suspend\u001B[0;34m(self, thread, frame, event, arg, send_suspend_message, is_unhandled_exception)\u001B[0m\n\u001B[1;32m   1157\u001B[0m         from_this_thread\u001B[38;5;241m.\u001B[39mappend(frame_id)\n\u001B[1;32m   1159\u001B[0m \u001B[38;5;28;01mwith\u001B[39;00m \u001B[38;5;28mself\u001B[39m\u001B[38;5;241m.\u001B[39m_threads_suspended_single_notification\u001B[38;5;241m.\u001B[39mnotify_thread_suspended(thread_id, stop_reason):\n\u001B[0;32m-> 1160\u001B[0m     \u001B[38;5;28;43mself\u001B[39;49m\u001B[38;5;241;43m.\u001B[39;49m\u001B[43m_do_wait_suspend\u001B[49m\u001B[43m(\u001B[49m\u001B[43mthread\u001B[49m\u001B[43m,\u001B[49m\u001B[43m \u001B[49m\u001B[43mframe\u001B[49m\u001B[43m,\u001B[49m\u001B[43m \u001B[49m\u001B[43mevent\u001B[49m\u001B[43m,\u001B[49m\u001B[43m \u001B[49m\u001B[43marg\u001B[49m\u001B[43m,\u001B[49m\u001B[43m \u001B[49m\u001B[43msuspend_type\u001B[49m\u001B[43m,\u001B[49m\u001B[43m \u001B[49m\u001B[43mfrom_this_thread\u001B[49m\u001B[43m)\u001B[49m\n",
      "File \u001B[0;32m/Applications/PyCharm.app/Contents/plugins/python/helpers/pydev/pydevd.py:1175\u001B[0m, in \u001B[0;36mPyDB._do_wait_suspend\u001B[0;34m(self, thread, frame, event, arg, suspend_type, from_this_thread)\u001B[0m\n\u001B[1;32m   1172\u001B[0m             \u001B[38;5;28mself\u001B[39m\u001B[38;5;241m.\u001B[39m_call_mpl_hook()\n\u001B[1;32m   1174\u001B[0m         \u001B[38;5;28mself\u001B[39m\u001B[38;5;241m.\u001B[39mprocess_internal_commands()\n\u001B[0;32m-> 1175\u001B[0m         \u001B[43mtime\u001B[49m\u001B[38;5;241;43m.\u001B[39;49m\u001B[43msleep\u001B[49m\u001B[43m(\u001B[49m\u001B[38;5;241;43m0.01\u001B[39;49m\u001B[43m)\u001B[49m\n\u001B[1;32m   1177\u001B[0m \u001B[38;5;28mself\u001B[39m\u001B[38;5;241m.\u001B[39mcancel_async_evaluation(get_current_thread_id(thread), \u001B[38;5;28mstr\u001B[39m(\u001B[38;5;28mid\u001B[39m(frame)))\n\u001B[1;32m   1179\u001B[0m \u001B[38;5;66;03m# process any stepping instructions\u001B[39;00m\n",
      "\u001B[0;31mKeyboardInterrupt\u001B[0m: "
     ]
    }
   ],
   "source": [
    "df2.groupby(['dataset','dataset_size', 'encoding', 'strategy']).agg({'accuracy': ['mean', 'std'], 'f1': ['mean', 'std']}).reset_index()"
   ],
   "metadata": {
    "collapsed": false
   }
  },
  {
   "cell_type": "code",
   "execution_count": null,
   "outputs": [],
   "source": [],
   "metadata": {
    "collapsed": false
   }
  },
  {
   "cell_type": "code",
   "execution_count": 113,
   "outputs": [],
   "source": [
    "df2['method'] = df2['method'].apply(lambda x: x.replace('FindRSGridSearch', 'Find-RS'))"
   ],
   "metadata": {
    "collapsed": false
   }
  },
  {
   "cell_type": "code",
   "execution_count": 118,
   "outputs": [],
   "source": [
    "# join the two dataframes; merge on all columns, prefer df2 values\n",
    "df = df1.merge(df2, how='outer', on=['dataset', 'method', 'strategy', 'encoding', 'seed'], suffixes=('', '-new'))\n"
   ],
   "metadata": {
    "collapsed": false
   }
  },
  {
   "cell_type": "code",
   "execution_count": 119,
   "outputs": [
    {
     "data": {
      "text/plain": "Index(['dataset', 'dataset_size', 'encoding', 'seed', 'strategy', 'method',\n       'model', 'accuracy', 'f1', 'avg_rule_len', 'avg_ruleset_len', 'T',\n       'dataset_size-new', 'model-new', 'accuracy-new', 'f1-new',\n       'avg_rule_len-new', 'avg_ruleset_len-new', 'T-new'],\n      dtype='object')"
     },
     "execution_count": 119,
     "metadata": {},
     "output_type": "execute_result"
    }
   ],
   "source": [
    "df.columns"
   ],
   "metadata": {
    "collapsed": false
   }
  },
  {
   "cell_type": "code",
   "execution_count": 120,
   "outputs": [],
   "source": [
    "for column_name in ['dataset_size', 'accuracy', 'f1', 'avg_rule_len', 'avg_ruleset_len', 'T', 'model']:\n",
    "    df[column_name] = df[column_name + '-new'].fillna(df[column_name])# .where(df[column_name + '-new'].notna())\n"
   ],
   "metadata": {
    "collapsed": false
   }
  },
  {
   "cell_type": "code",
   "execution_count": 121,
   "outputs": [
    {
     "name": "stdout",
     "output_type": "stream",
     "text": [
      "Index(['dataset', 'dataset_size', 'encoding', 'seed', 'strategy', 'method',\n",
      "       'model', 'accuracy', 'f1', 'avg_rule_len', 'avg_ruleset_len', 'T',\n",
      "       'dataset_size-new', 'model-new', 'accuracy-new', 'f1-new',\n",
      "       'avg_rule_len-new', 'avg_ruleset_len-new', 'T-new'],\n",
      "      dtype='object')\n"
     ]
    }
   ],
   "source": [
    "print(df.columns)"
   ],
   "metadata": {
    "collapsed": false
   }
  },
  {
   "cell_type": "markdown",
   "source": [],
   "metadata": {
    "collapsed": false
   }
  },
  {
   "cell_type": "code",
   "execution_count": 122,
   "outputs": [],
   "source": [
    "\n",
    "# persist data\n",
    "df.to_pickle('find-rs-cv4-merged.pkl')"
   ],
   "metadata": {
    "collapsed": false
   }
  },
  {
   "cell_type": "code",
   "execution_count": 123,
   "outputs": [],
   "source": [
    "df_no_model = df.drop(columns=['model'])\n",
    "df_no_model.to_pickle('find-rs-cv4-merged-no-model.pkl')"
   ],
   "metadata": {
    "collapsed": false
   }
  },
  {
   "cell_type": "code",
   "execution_count": 1,
   "outputs": [
    {
     "name": "stdout",
     "output_type": "stream",
     "text": [
      "boh\n"
     ]
    }
   ],
   "source": [
    "print('boh')"
   ],
   "metadata": {
    "collapsed": false
   }
  },
  {
   "cell_type": "code",
   "execution_count": 2,
   "outputs": [],
   "source": [
    "import pandas as pd\n",
    "df = pd.read_pickle('find-rs-cv4.pkl')"
   ],
   "metadata": {
    "collapsed": false
   }
  },
  {
   "cell_type": "code",
   "execution_count": 3,
   "outputs": [
    {
     "data": {
      "text/plain": "     dataset  dataset_size encoding  seed strategy            method  \\\n0     BREAST           0.5       av   0.0   single  FindRSGridSearch   \n1     BREAST           0.5       av   0.0       bo  FindRSGridSearch   \n2     BREAST           0.5       av   0.0       bp  FindRSGridSearch   \n3     BREAST           0.5       av   0.0   best-k  FindRSGridSearch   \n4     BREAST           0.5      ohe   0.0   single  FindRSGridSearch   \n...      ...           ...      ...   ...      ...               ...   \n1035    VOTE           0.5       av   9.0   best-k  FindRSGridSearch   \n1036    VOTE           0.5      ohe   9.0   single  FindRSGridSearch   \n1037    VOTE           0.5      ohe   9.0       bo  FindRSGridSearch   \n1038    VOTE           0.5      ohe   9.0       bp  FindRSGridSearch   \n1039    VOTE           0.5      ohe   9.0   best-k  FindRSGridSearch   \n\n                                                  model  accuracy        f1  \\\n0     GridSearchCV(cv=KFold(n_splits=5, random_state...  0.691729  0.305085   \n1     GridSearchCV(cv=KFold(n_splits=5, random_state...  0.676692  0.085106   \n2     GridSearchCV(cv=KFold(n_splits=5, random_state...  0.676692  0.085106   \n3     GridSearchCV(cv=KFold(n_splits=5, random_state...  0.669173  0.083333   \n4     GridSearchCV(cv=KFold(n_splits=5, random_state...  0.593985  0.228571   \n...                                                 ...       ...       ...   \n1035  GridSearchCV(cv=KFold(n_splits=5, random_state...  0.923977  0.890756   \n1036  GridSearchCV(cv=KFold(n_splits=5, random_state...  0.906433  0.849057   \n1037  GridSearchCV(cv=KFold(n_splits=5, random_state...  0.935673  0.904348   \n1038  GridSearchCV(cv=KFold(n_splits=5, random_state...  0.935673  0.904348   \n1039  GridSearchCV(cv=KFold(n_splits=5, random_state...  0.935673  0.904348   \n\n      avg_rule_len  avg_ruleset_len      T  \n0         3.400000             5.00  100.0  \n1         5.032000             5.00  100.0  \n2         4.914286            70.00  100.0  \n3         4.816327            49.00  100.0  \n4        23.800000             5.00  100.0  \n...            ...              ...    ...  \n1035      5.900000            10.00  100.0  \n1036     21.333333             3.00  100.0  \n1037     16.124060             2.66  100.0  \n1038     15.448276            87.00  100.0  \n1039     17.363636            11.00  100.0  \n\n[1040 rows x 12 columns]",
      "text/html": "<div>\n<style scoped>\n    .dataframe tbody tr th:only-of-type {\n        vertical-align: middle;\n    }\n\n    .dataframe tbody tr th {\n        vertical-align: top;\n    }\n\n    .dataframe thead th {\n        text-align: right;\n    }\n</style>\n<table border=\"1\" class=\"dataframe\">\n  <thead>\n    <tr style=\"text-align: right;\">\n      <th></th>\n      <th>dataset</th>\n      <th>dataset_size</th>\n      <th>encoding</th>\n      <th>seed</th>\n      <th>strategy</th>\n      <th>method</th>\n      <th>model</th>\n      <th>accuracy</th>\n      <th>f1</th>\n      <th>avg_rule_len</th>\n      <th>avg_ruleset_len</th>\n      <th>T</th>\n    </tr>\n  </thead>\n  <tbody>\n    <tr>\n      <th>0</th>\n      <td>BREAST</td>\n      <td>0.5</td>\n      <td>av</td>\n      <td>0.0</td>\n      <td>single</td>\n      <td>FindRSGridSearch</td>\n      <td>GridSearchCV(cv=KFold(n_splits=5, random_state...</td>\n      <td>0.691729</td>\n      <td>0.305085</td>\n      <td>3.400000</td>\n      <td>5.00</td>\n      <td>100.0</td>\n    </tr>\n    <tr>\n      <th>1</th>\n      <td>BREAST</td>\n      <td>0.5</td>\n      <td>av</td>\n      <td>0.0</td>\n      <td>bo</td>\n      <td>FindRSGridSearch</td>\n      <td>GridSearchCV(cv=KFold(n_splits=5, random_state...</td>\n      <td>0.676692</td>\n      <td>0.085106</td>\n      <td>5.032000</td>\n      <td>5.00</td>\n      <td>100.0</td>\n    </tr>\n    <tr>\n      <th>2</th>\n      <td>BREAST</td>\n      <td>0.5</td>\n      <td>av</td>\n      <td>0.0</td>\n      <td>bp</td>\n      <td>FindRSGridSearch</td>\n      <td>GridSearchCV(cv=KFold(n_splits=5, random_state...</td>\n      <td>0.676692</td>\n      <td>0.085106</td>\n      <td>4.914286</td>\n      <td>70.00</td>\n      <td>100.0</td>\n    </tr>\n    <tr>\n      <th>3</th>\n      <td>BREAST</td>\n      <td>0.5</td>\n      <td>av</td>\n      <td>0.0</td>\n      <td>best-k</td>\n      <td>FindRSGridSearch</td>\n      <td>GridSearchCV(cv=KFold(n_splits=5, random_state...</td>\n      <td>0.669173</td>\n      <td>0.083333</td>\n      <td>4.816327</td>\n      <td>49.00</td>\n      <td>100.0</td>\n    </tr>\n    <tr>\n      <th>4</th>\n      <td>BREAST</td>\n      <td>0.5</td>\n      <td>ohe</td>\n      <td>0.0</td>\n      <td>single</td>\n      <td>FindRSGridSearch</td>\n      <td>GridSearchCV(cv=KFold(n_splits=5, random_state...</td>\n      <td>0.593985</td>\n      <td>0.228571</td>\n      <td>23.800000</td>\n      <td>5.00</td>\n      <td>100.0</td>\n    </tr>\n    <tr>\n      <th>...</th>\n      <td>...</td>\n      <td>...</td>\n      <td>...</td>\n      <td>...</td>\n      <td>...</td>\n      <td>...</td>\n      <td>...</td>\n      <td>...</td>\n      <td>...</td>\n      <td>...</td>\n      <td>...</td>\n      <td>...</td>\n    </tr>\n    <tr>\n      <th>1035</th>\n      <td>VOTE</td>\n      <td>0.5</td>\n      <td>av</td>\n      <td>9.0</td>\n      <td>best-k</td>\n      <td>FindRSGridSearch</td>\n      <td>GridSearchCV(cv=KFold(n_splits=5, random_state...</td>\n      <td>0.923977</td>\n      <td>0.890756</td>\n      <td>5.900000</td>\n      <td>10.00</td>\n      <td>100.0</td>\n    </tr>\n    <tr>\n      <th>1036</th>\n      <td>VOTE</td>\n      <td>0.5</td>\n      <td>ohe</td>\n      <td>9.0</td>\n      <td>single</td>\n      <td>FindRSGridSearch</td>\n      <td>GridSearchCV(cv=KFold(n_splits=5, random_state...</td>\n      <td>0.906433</td>\n      <td>0.849057</td>\n      <td>21.333333</td>\n      <td>3.00</td>\n      <td>100.0</td>\n    </tr>\n    <tr>\n      <th>1037</th>\n      <td>VOTE</td>\n      <td>0.5</td>\n      <td>ohe</td>\n      <td>9.0</td>\n      <td>bo</td>\n      <td>FindRSGridSearch</td>\n      <td>GridSearchCV(cv=KFold(n_splits=5, random_state...</td>\n      <td>0.935673</td>\n      <td>0.904348</td>\n      <td>16.124060</td>\n      <td>2.66</td>\n      <td>100.0</td>\n    </tr>\n    <tr>\n      <th>1038</th>\n      <td>VOTE</td>\n      <td>0.5</td>\n      <td>ohe</td>\n      <td>9.0</td>\n      <td>bp</td>\n      <td>FindRSGridSearch</td>\n      <td>GridSearchCV(cv=KFold(n_splits=5, random_state...</td>\n      <td>0.935673</td>\n      <td>0.904348</td>\n      <td>15.448276</td>\n      <td>87.00</td>\n      <td>100.0</td>\n    </tr>\n    <tr>\n      <th>1039</th>\n      <td>VOTE</td>\n      <td>0.5</td>\n      <td>ohe</td>\n      <td>9.0</td>\n      <td>best-k</td>\n      <td>FindRSGridSearch</td>\n      <td>GridSearchCV(cv=KFold(n_splits=5, random_state...</td>\n      <td>0.935673</td>\n      <td>0.904348</td>\n      <td>17.363636</td>\n      <td>11.00</td>\n      <td>100.0</td>\n    </tr>\n  </tbody>\n</table>\n<p>1040 rows × 12 columns</p>\n</div>"
     },
     "execution_count": 3,
     "metadata": {},
     "output_type": "execute_result"
    }
   ],
   "source": [
    "df"
   ],
   "metadata": {
    "collapsed": false
   }
  }
 ],
 "metadata": {
  "kernelspec": {
   "display_name": "Python 3",
   "language": "python",
   "name": "python3"
  },
  "language_info": {
   "codemirror_mode": {
    "name": "ipython",
    "version": 2
   },
   "file_extension": ".py",
   "mimetype": "text/x-python",
   "name": "python",
   "nbconvert_exporter": "python",
   "pygments_lexer": "ipython2",
   "version": "2.7.6"
  }
 },
 "nbformat": 4,
 "nbformat_minor": 0
}
