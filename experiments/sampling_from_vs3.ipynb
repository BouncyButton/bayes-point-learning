{
 "cells": [
  {
   "cell_type": "code",
   "execution_count": 286,
   "outputs": [],
   "source": [
    "import pandas as pd\n",
    "df = pd.read_pickle('results.pkl')"
   ],
   "metadata": {
    "collapsed": false
   }
  },
  {
   "cell_type": "code",
   "execution_count": 288,
   "outputs": [
    {
     "ename": "KeyboardInterrupt",
     "evalue": "",
     "output_type": "error",
     "traceback": [
      "\u001B[0;31m---------------------------------------------------------------------------\u001B[0m",
      "\u001B[0;31mKeyboardInterrupt\u001B[0m                         Traceback (most recent call last)",
      "Cell \u001B[0;32mIn[288], line 1\u001B[0m\n\u001B[0;32m----> 1\u001B[0m \u001B[43mdf\u001B[49m\n",
      "Cell \u001B[0;32mIn[288], line 1\u001B[0m\n\u001B[0;32m----> 1\u001B[0m \u001B[43mdf\u001B[49m\n",
      "File \u001B[0;32m_pydevd_bundle/pydevd_cython_darwin_310_64.pyx:1179\u001B[0m, in \u001B[0;36m_pydevd_bundle.pydevd_cython_darwin_310_64.SafeCallWrapper.__call__\u001B[0;34m()\u001B[0m\n",
      "File \u001B[0;32m_pydevd_bundle/pydevd_cython_darwin_310_64.pyx:620\u001B[0m, in \u001B[0;36m_pydevd_bundle.pydevd_cython_darwin_310_64.PyDBFrame.trace_dispatch\u001B[0;34m()\u001B[0m\n",
      "File \u001B[0;32m_pydevd_bundle/pydevd_cython_darwin_310_64.pyx:929\u001B[0m, in \u001B[0;36m_pydevd_bundle.pydevd_cython_darwin_310_64.PyDBFrame.trace_dispatch\u001B[0;34m()\u001B[0m\n",
      "File \u001B[0;32m_pydevd_bundle/pydevd_cython_darwin_310_64.pyx:920\u001B[0m, in \u001B[0;36m_pydevd_bundle.pydevd_cython_darwin_310_64.PyDBFrame.trace_dispatch\u001B[0;34m()\u001B[0m\n",
      "File \u001B[0;32m_pydevd_bundle/pydevd_cython_darwin_310_64.pyx:317\u001B[0m, in \u001B[0;36m_pydevd_bundle.pydevd_cython_darwin_310_64.PyDBFrame.do_wait_suspend\u001B[0;34m()\u001B[0m\n",
      "File \u001B[0;32m/Applications/PyCharm.app/Contents/plugins/python/helpers/pydev/pydevd.py:1160\u001B[0m, in \u001B[0;36mPyDB.do_wait_suspend\u001B[0;34m(self, thread, frame, event, arg, send_suspend_message, is_unhandled_exception)\u001B[0m\n\u001B[1;32m   1157\u001B[0m         from_this_thread\u001B[38;5;241m.\u001B[39mappend(frame_id)\n\u001B[1;32m   1159\u001B[0m \u001B[38;5;28;01mwith\u001B[39;00m \u001B[38;5;28mself\u001B[39m\u001B[38;5;241m.\u001B[39m_threads_suspended_single_notification\u001B[38;5;241m.\u001B[39mnotify_thread_suspended(thread_id, stop_reason):\n\u001B[0;32m-> 1160\u001B[0m     \u001B[38;5;28;43mself\u001B[39;49m\u001B[38;5;241;43m.\u001B[39;49m\u001B[43m_do_wait_suspend\u001B[49m\u001B[43m(\u001B[49m\u001B[43mthread\u001B[49m\u001B[43m,\u001B[49m\u001B[43m \u001B[49m\u001B[43mframe\u001B[49m\u001B[43m,\u001B[49m\u001B[43m \u001B[49m\u001B[43mevent\u001B[49m\u001B[43m,\u001B[49m\u001B[43m \u001B[49m\u001B[43marg\u001B[49m\u001B[43m,\u001B[49m\u001B[43m \u001B[49m\u001B[43msuspend_type\u001B[49m\u001B[43m,\u001B[49m\u001B[43m \u001B[49m\u001B[43mfrom_this_thread\u001B[49m\u001B[43m)\u001B[49m\n",
      "File \u001B[0;32m/Applications/PyCharm.app/Contents/plugins/python/helpers/pydev/pydevd.py:1174\u001B[0m, in \u001B[0;36mPyDB._do_wait_suspend\u001B[0;34m(self, thread, frame, event, arg, suspend_type, from_this_thread)\u001B[0m\n\u001B[1;32m   1170\u001B[0m         \u001B[38;5;28;01mif\u001B[39;00m \u001B[38;5;28mself\u001B[39m\u001B[38;5;241m.\u001B[39mmpl_in_use:\n\u001B[1;32m   1171\u001B[0m             \u001B[38;5;66;03m# call input hooks if only matplotlib is in use\u001B[39;00m\n\u001B[1;32m   1172\u001B[0m             \u001B[38;5;28mself\u001B[39m\u001B[38;5;241m.\u001B[39m_call_mpl_hook()\n\u001B[0;32m-> 1174\u001B[0m         \u001B[38;5;28;43mself\u001B[39;49m\u001B[38;5;241;43m.\u001B[39;49m\u001B[43mprocess_internal_commands\u001B[49m\u001B[43m(\u001B[49m\u001B[43m)\u001B[49m\n\u001B[1;32m   1175\u001B[0m         time\u001B[38;5;241m.\u001B[39msleep(\u001B[38;5;241m0.01\u001B[39m)\n\u001B[1;32m   1177\u001B[0m \u001B[38;5;28mself\u001B[39m\u001B[38;5;241m.\u001B[39mcancel_async_evaluation(get_current_thread_id(thread), \u001B[38;5;28mstr\u001B[39m(\u001B[38;5;28mid\u001B[39m(frame)))\n",
      "File \u001B[0;32m/Applications/PyCharm.app/Contents/plugins/python/helpers/pydev/pydevd.py:797\u001B[0m, in \u001B[0;36mPyDB.process_internal_commands\u001B[0;34m(self)\u001B[0m\n\u001B[1;32m    794\u001B[0m \u001B[38;5;28mself\u001B[39m\u001B[38;5;241m.\u001B[39mcheck_output_redirect()\n\u001B[1;32m    796\u001B[0m program_threads_alive \u001B[38;5;241m=\u001B[39m {}\n\u001B[0;32m--> 797\u001B[0m all_threads \u001B[38;5;241m=\u001B[39m \u001B[43mthreadingEnumerate\u001B[49m\u001B[43m(\u001B[49m\u001B[43m)\u001B[49m\n\u001B[1;32m    798\u001B[0m program_threads_dead \u001B[38;5;241m=\u001B[39m []\n\u001B[1;32m    799\u001B[0m \u001B[38;5;28;01mwith\u001B[39;00m \u001B[38;5;28mself\u001B[39m\u001B[38;5;241m.\u001B[39m_lock_running_thread_ids:\n",
      "File \u001B[0;32m~/miniconda3/envs/corels10/lib/python3.10/threading.py:1487\u001B[0m, in \u001B[0;36menumerate\u001B[0;34m()\u001B[0m\n\u001B[1;32m   1479\u001B[0m \u001B[38;5;124;03m\"\"\"Return a list of all Thread objects currently alive.\u001B[39;00m\n\u001B[1;32m   1480\u001B[0m \n\u001B[1;32m   1481\u001B[0m \u001B[38;5;124;03mThe list includes daemonic threads, dummy thread objects created by\u001B[39;00m\n\u001B[0;32m   (...)\u001B[0m\n\u001B[1;32m   1484\u001B[0m \n\u001B[1;32m   1485\u001B[0m \u001B[38;5;124;03m\"\"\"\u001B[39;00m\n\u001B[1;32m   1486\u001B[0m \u001B[38;5;28;01mwith\u001B[39;00m _active_limbo_lock:\n\u001B[0;32m-> 1487\u001B[0m     \u001B[38;5;28;01mreturn\u001B[39;00m \u001B[38;5;28mlist\u001B[39m(\u001B[43m_active\u001B[49m\u001B[38;5;241;43m.\u001B[39;49m\u001B[43mvalues\u001B[49m\u001B[43m(\u001B[49m\u001B[43m)\u001B[49m) \u001B[38;5;241m+\u001B[39m \u001B[38;5;28mlist\u001B[39m(_limbo\u001B[38;5;241m.\u001B[39mvalues())\n",
      "\u001B[0;31mKeyboardInterrupt\u001B[0m: "
     ]
    }
   ],
   "source": [
    "df"
   ],
   "metadata": {
    "collapsed": false
   }
  },
  {
   "cell_type": "markdown",
   "source": [],
   "metadata": {
    "collapsed": false
   }
  },
  {
   "cell_type": "markdown",
   "metadata": {},
   "source": [
    "# Sampling from the version space\n",
    "\n",
    "Let's consider a simple example where we have access to the true rules that generated the data. We can build a dataset that is generated by these rules and then build the version space, that is, a set of all possible rules that could have generated the data. We can then compute the expected performance from this version space with different techniques and see how classification performance changes.\n",
    "\n",
    "We consider the following ground truth rule set (i.e., a DNF).\n",
    "\n",
    "$$(x_0=0 \\wedge x_1=1 \\wedge x_3=0) \\vee (x_2=1 \\wedge x_4=1)$$\n",
    "\n",
    "We consider as hypothesis space the set of m-terms k-DNF, that is, all possible combinations **up to** $k$ different conjunctive rules put in OR, where each rule is a conjunction of **at most** $m$ features.\n",
    "\n",
    "For example, the chosen DNF is a 3-term 2-DNF. Instead, a 2-term 2-DNF could be $x_0=0 \\wedge x_1=1 \\vee x_2=1$.\n"
   ]
  },
  {
   "cell_type": "code",
   "execution_count": 266,
   "metadata": {},
   "outputs": [],
   "source": [
    "import math\n",
    "\n",
    "from tqdm import tqdm\n",
    "\n",
    "from bpllib.rules._discrete_constraint import DiscreteConstraint\n",
    "from bpllib.rules._rule import Rule\n",
    "import numpy as np\n",
    "import pandas as pd\n",
    "import matplotlib.pyplot as plt\n",
    "\n",
    "# random rules\n",
    "r1 = Rule(constraints={0: DiscreteConstraint(value=0, index=0),\n",
    "                       1: DiscreteConstraint(value=1, index=1),\n",
    "                       3: DiscreteConstraint(value=0, index=3)\n",
    "                       })\n",
    "\n",
    "r2 = Rule(constraints={2: DiscreteConstraint(value=1, index=2),\n",
    "                       4: DiscreteConstraint(value=1, index=4)\n",
    "                       }\n",
    "          )\n",
    "\n",
    "#r3 = Rule(constraints={5: DiscreteConstraint(value=1, index=5),\n",
    "#                       6: DiscreteConstraint(value=0, index=6)})\n",
    "\n",
    "rule_set = [r1, r2]  #, r3]\n"
   ]
  },
  {
   "cell_type": "markdown",
   "source": [
    "(note: I haven't used three ors, since to show that the weighted strategy is effective, I would have needed to consider all 4-DNFs as well)"
   ],
   "metadata": {
    "collapsed": false
   }
  },
  {
   "cell_type": "markdown",
   "metadata": {},
   "source": [
    "## Generate data\n",
    "\n",
    "We generate a dataset of all the possible samples. We use the same rules to generate the labels for both sets.\n",
    "\n",
    "Each datapoint is in $\\{0, 1\\}^8$. The rules involve only the first 5 features, hence rules in the version space may have irrelevant features inside.\n",
    "\n",
    "All the possible conjunctive rules involving 8 features and 3 terms are 576.\n",
    "\n",
    "Later we will build the version space. To avoid unnecessary computation, we can already filter out the ones that cover any negative example. Of course, they will not be in the version space. We can't remove rules that don't cover any positive example, because they can still be in the version space."
   ]
  },
  {
   "cell_type": "code",
   "execution_count": 268,
   "metadata": {},
   "outputs": [
    {
     "name": "stdout",
     "output_type": "stream",
     "text": [
      "576\n"
     ]
    }
   ],
   "source": [
    "import itertools\n",
    "\n",
    "\n",
    "def generate_rules(m, n_features=7):\n",
    "    all_features = list(range(n_features))\n",
    "    combos = itertools.combinations(all_features, m)\n",
    "    rules = set()\n",
    "    for combo in combos:\n",
    "        for combo_values in itertools.product([0, 1], repeat=m):\n",
    "            rule = Rule(constraints={})\n",
    "            for i in range(m):\n",
    "                if combo_values[i] == 0:\n",
    "                    rule.constraints[combo[i]] = DiscreteConstraint(value=0, index=combo[i])\n",
    "                else:\n",
    "                    rule.constraints[combo[i]] = DiscreteConstraint(value=1, index=combo[i])\n",
    "            rules.add(rule)\n",
    "    return rules\n",
    "\n",
    "\n",
    "full_rule_space = set.union(*[generate_rules(m=m, n_features=8) for m in range(1, 4)])\n",
    "\n",
    "print(len(full_rule_space))\n",
    "\n"
   ]
  },
  {
   "cell_type": "markdown",
   "source": [
    "The full rule space would be given by the power set of the features.\n",
    "\n",
    "$$\\mathcal{P}(\\{x_i=v_j | i \\in \\{1, d\\}, v_j \\in \\{0, 1\\} \\})$$\n",
    "\n",
    "where $x_i$ is the $i$-th feature and $v_j$ is the $j$-th value of the feature.\n",
    "\n",
    "Down the line, this is a source of combinatorial explosion.  Hence, we restrict the hypothesis space to a maximum number of features (terms in a DNF) $m$.\n"
   ],
   "metadata": {
    "collapsed": false
   }
  },
  {
   "cell_type": "code",
   "execution_count": 269,
   "metadata": {},
   "outputs": [],
   "source": [
    "def generate_tuples_async(k, rule_space):\n",
    "    for i in range(1, k + 1):\n",
    "        tuples = itertools.combinations(rule_space, i)\n",
    "\n",
    "        for t in tuples:\n",
    "            yield t"
   ]
  },
  {
   "cell_type": "code",
   "execution_count": 270,
   "outputs": [],
   "source": [
    "def filter_rule_space(X, y, full_rule_space):\n",
    "    # exclude all rules that cover at least one negative example\n",
    "    neg = X[y == 0]\n",
    "    for rule in full_rule_space:\n",
    "        if not any([rule.covers(x) for x in neg]):\n",
    "            yield rule"
   ],
   "metadata": {
    "collapsed": false
   }
  },
  {
   "cell_type": "code",
   "execution_count": 271,
   "outputs": [],
   "source": [
    "def create_X(n=8):\n",
    "    # create all combinations of N features\n",
    "    from itertools import product\n",
    "    combinations = list(product([0, 1], repeat=n))  # generate all binary combinations of length n\n",
    "    X = np.array(combinations)\n",
    "    return X\n",
    "\n",
    "\n",
    "X = create_X(8)"
   ],
   "metadata": {
    "collapsed": false
   }
  },
  {
   "cell_type": "code",
   "execution_count": 272,
   "outputs": [
    {
     "name": "stdout",
     "output_type": "stream",
     "text": [
      "prop. pos/all: 0.34375\n",
      "14\n"
     ]
    }
   ],
   "source": [
    "y = np.array([any([r.covers(x) for r in rule_set]) for x in X])\n",
    "\n",
    "print(\"prop. pos/all:\", y.sum() / len(y))\n",
    "\n",
    "frs = list(filter_rule_space(X, y, full_rule_space))\n",
    "print(len(frs))"
   ],
   "metadata": {
    "collapsed": false
   }
  },
  {
   "cell_type": "code",
   "execution_count": 273,
   "metadata": {},
   "outputs": [],
   "source": [
    "def generate_version_space(X, y, full_rule_space, k=3, verbose=False):\n",
    "    VS = set()\n",
    "    rule_space = list(filter_rule_space(X, y, full_rule_space))\n",
    "    if verbose:\n",
    "        print(\"rule space len (after filter):\", len(rule_space))\n",
    "    from tqdm import tqdm\n",
    "\n",
    "    it = generate_tuples_async(k, rule_space)\n",
    "    tot = sum([math.comb(len(rule_space), i) for i in range(1, k + 1)])\n",
    "    if verbose or tot > 1e5:\n",
    "        it = tqdm(it, total=tot)\n",
    "\n",
    "    for h in it:\n",
    "        ok = True\n",
    "\n",
    "        for x in X[y == 0]:\n",
    "            if any([r.covers(x) for r in h]):\n",
    "                ok = False\n",
    "                break\n",
    "        for x in X[y == 1]:\n",
    "            if not any([r.covers(x) for r in h]):\n",
    "                ok = False\n",
    "                break\n",
    "\n",
    "        if ok:\n",
    "            VS.add(h)\n",
    "    return VS"
   ]
  },
  {
   "cell_type": "code",
   "execution_count": 274,
   "metadata": {},
   "outputs": [
    {
     "data": {
      "text/plain": "486"
     },
     "execution_count": 274,
     "metadata": {},
     "output_type": "execute_result"
    }
   ],
   "source": [
    "from sklearn.model_selection import train_test_split\n",
    "\n",
    "X_train, X_test, y_train, y_test = train_test_split(X, y, test_size=0.8, random_state=1)\n",
    "VS = generate_version_space(X_train, y_train, full_rule_space, k=4)\n",
    "len(VS)"
   ]
  },
  {
   "cell_type": "code",
   "execution_count": 275,
   "outputs": [
    {
     "data": {
      "text/plain": "[(X[2] == 1 ^ X[4] == 1, X[0] == 0 ^ X[1] == 1 ^ X[3] == 0),\n (X[2] == 1 ^ X[4] == 1,\n  X[2] == 1 ^ X[4] == 1 ^ X[6] == 0,\n  X[0] == 0 ^ X[1] == 1 ^ X[3] == 0),\n (X[2] == 1 ^ X[4] == 1,\n  X[0] == 0 ^ X[1] == 1 ^ X[3] == 0,\n  X[2] == 1 ^ X[4] == 1 ^ X[6] == 1),\n (X[2] == 1 ^ X[3] == 0 ^ X[5] == 0,\n  X[2] == 1 ^ X[4] == 1,\n  X[0] == 0 ^ X[1] == 1 ^ X[3] == 0),\n (X[2] == 1 ^ X[4] == 1,\n  X[0] == 0 ^ X[1] == 1 ^ X[3] == 0,\n  X[1] == 1 ^ X[2] == 1 ^ X[4] == 1),\n (X[2] == 1 ^ X[4] == 1 ^ X[7] == 0,\n  X[2] == 1 ^ X[4] == 1,\n  X[0] == 0 ^ X[1] == 1 ^ X[3] == 0),\n (X[2] == 1 ^ X[4] == 1,\n  X[2] == 1 ^ X[3] == 1 ^ X[4] == 1,\n  X[0] == 0 ^ X[1] == 1 ^ X[3] == 0),\n (X[2] == 1 ^ X[4] == 1,\n  X[0] == 0 ^ X[1] == 1 ^ X[3] == 0,\n  X[0] == 1 ^ X[2] == 1 ^ X[4] == 1),\n (X[2] == 1 ^ X[4] == 1,\n  X[0] == 0 ^ X[1] == 1 ^ X[3] == 0,\n  X[2] == 1 ^ X[3] == 0 ^ X[6] == 1),\n (X[2] == 1 ^ X[4] == 1,\n  X[0] == 0 ^ X[1] == 1 ^ X[3] == 0,\n  X[0] == 0 ^ X[2] == 1 ^ X[4] == 1),\n (X[2] == 1 ^ X[4] == 1,\n  X[2] == 1 ^ X[5] == 1 ^ X[6] == 1,\n  X[0] == 0 ^ X[1] == 1 ^ X[3] == 0),\n (X[1] == 0 ^ X[2] == 1 ^ X[4] == 1,\n  X[2] == 1 ^ X[4] == 1,\n  X[0] == 0 ^ X[1] == 1 ^ X[3] == 0),\n (X[2] == 1 ^ X[4] == 1,\n  X[0] == 0 ^ X[1] == 1 ^ X[3] == 0,\n  X[2] == 1 ^ X[3] == 1 ^ X[5] == 1),\n (X[2] == 1 ^ X[4] == 1 ^ X[5] == 0,\n  X[2] == 1 ^ X[4] == 1,\n  X[0] == 0 ^ X[1] == 1 ^ X[3] == 0),\n (X[2] == 1 ^ X[4] == 1,\n  X[0] == 0 ^ X[1] == 1 ^ X[3] == 0,\n  X[2] == 1 ^ X[4] == 1 ^ X[5] == 1),\n (X[2] == 1 ^ X[4] == 1,\n  X[0] == 0 ^ X[1] == 1 ^ X[3] == 0,\n  X[0] == 0 ^ X[1] == 1 ^ X[4] == 1),\n (X[2] == 1 ^ X[4] == 1,\n  X[0] == 0 ^ X[1] == 1 ^ X[3] == 0,\n  X[2] == 1 ^ X[5] == 0 ^ X[6] == 0),\n (X[2] == 1 ^ X[4] == 1,\n  X[0] == 0 ^ X[1] == 1 ^ X[3] == 0,\n  X[2] == 1 ^ X[4] == 1 ^ X[7] == 1),\n (X[2] == 1 ^ X[4] == 1,\n  X[0] == 0 ^ X[1] == 1 ^ X[3] == 0,\n  X[2] == 1 ^ X[3] == 1 ^ X[6] == 0),\n (X[2] == 1 ^ X[3] == 0 ^ X[4] == 1,\n  X[2] == 1 ^ X[4] == 1,\n  X[0] == 0 ^ X[1] == 1 ^ X[3] == 0)]"
     },
     "execution_count": 275,
     "metadata": {},
     "output_type": "execute_result"
    }
   ],
   "source": [
    "sorted(VS, key=lambda x: len(x) + sum([len(r) for r in x]) / 1000)[:20]"
   ],
   "metadata": {
    "collapsed": false
   }
  },
  {
   "cell_type": "markdown",
   "source": [],
   "metadata": {
    "collapsed": false
   }
  },
  {
   "cell_type": "markdown",
   "metadata": {},
   "source": [
    "Here we can see the rules found. The shortest rule is the correct one (the one that generated the data),\n",
    "\n",
    "`(X[2] == 1 ^ X[4] == 1, X[0] == 0 ^ X[1] == 1 ^ X[3] == 0)`\n",
    "\n",
    "But we can also find many other different, valid DNFs, that are more specific and more complex."
   ]
  },
  {
   "cell_type": "markdown",
   "source": [
    "If we change the training size to make it smaller, we can find more general DNFs that are still in the version space. These DNFs are not the correct one, but they still classify the training data with perfect accuracy.\n",
    "\n",
    "Here, the following are more general.\n",
    "\n",
    "```\n",
    "(X[2] == 1 ^ X[4] == 1, X[0] == 0 ^ X[1] == 1),\n",
    "(X[1] == 1 ^ X[2] == 1, X[0] == 0 ^ X[1] == 1)\n",
    "```\n"
   ],
   "metadata": {
    "collapsed": false
   }
  },
  {
   "cell_type": "code",
   "execution_count": 227,
   "outputs": [
    {
     "name": "stderr",
     "output_type": "stream",
     "text": [
      "100%|██████████| 134137/134137 [00:05<00:00, 25971.69it/s]\n"
     ]
    },
    {
     "data": {
      "text/plain": "[(X[2] == 1 ^ X[4] == 1, X[0] == 0 ^ X[1] == 1),\n (X[1] == 1 ^ X[2] == 1, X[0] == 0 ^ X[1] == 1),\n (X[1] == 1 ^ X[2] == 1, X[0] == 0 ^ X[1] == 1 ^ X[2] == 0),\n (X[2] == 1 ^ X[4] == 1 ^ X[7] == 1, X[0] == 0 ^ X[1] == 1),\n (X[0] == 0 ^ X[1] == 1, X[0] == 1 ^ X[2] == 1 ^ X[4] == 1),\n (X[0] == 0 ^ X[1] == 1, X[1] == 1 ^ X[2] == 1 ^ X[4] == 1),\n (X[2] == 1 ^ X[3] == 0 ^ X[4] == 1, X[0] == 0 ^ X[1] == 1),\n (X[1] == 1 ^ X[2] == 1 ^ X[7] == 1, X[0] == 0 ^ X[1] == 1),\n (X[1] == 1 ^ X[2] == 1, X[0] == 0 ^ X[2] == 0 ^ X[3] == 0),\n (X[0] == 0 ^ X[1] == 1, X[1] == 1 ^ X[2] == 1 ^ X[3] == 0),\n (X[0] == 0 ^ X[1] == 1, X[0] == 1 ^ X[1] == 1 ^ X[2] == 1),\n (X[0] == 1 ^ X[2] == 1 ^ X[3] == 0, X[0] == 0 ^ X[1] == 1),\n (X[2] == 1 ^ X[4] == 1, X[0] == 0 ^ X[1] == 1 ^ X[3] == 0),\n (X[1] == 1 ^ X[2] == 1, X[0] == 0 ^ X[1] == 1 ^ X[3] == 0),\n (X[0] == 1 ^ X[2] == 1 ^ X[7] == 1, X[0] == 0 ^ X[1] == 1),\n (X[1] == 1 ^ X[2] == 1 ^ X[7] == 1, X[0] == 0 ^ X[2] == 0 ^ X[3] == 0),\n (X[0] == 1 ^ X[2] == 1 ^ X[3] == 0, X[0] == 0 ^ X[1] == 1 ^ X[3] == 0),\n (X[0] == 0 ^ X[1] == 1 ^ X[3] == 0, X[2] == 1 ^ X[4] == 1 ^ X[7] == 1),\n (X[0] == 0 ^ X[2] == 0 ^ X[3] == 0, X[1] == 1 ^ X[2] == 1 ^ X[3] == 0),\n (X[0] == 1 ^ X[2] == 1 ^ X[7] == 1, X[0] == 0 ^ X[1] == 1 ^ X[3] == 0)]"
     },
     "execution_count": 227,
     "metadata": {},
     "output_type": "execute_result"
    }
   ],
   "source": [
    "from sklearn.model_selection import train_test_split\n",
    "\n",
    "X_train, X_test, y_train, y_test = train_test_split(X, y, test_size=0.9, random_state=1)\n",
    "VS = generate_version_space(X_train, y_train, full_rule_space, k=3)\n",
    "len(VS)\n",
    "sorted(VS, key=lambda x: len(x) + sum([len(r) for r in x]) / 1000)[:20]"
   ],
   "metadata": {
    "collapsed": false
   }
  },
  {
   "cell_type": "markdown",
   "source": [
    "We can observe the following:\n",
    "* a priori, a simple rule set has less probability to be in the version space compared to a more complex one.\n",
    "\n",
    "se pesco un ruleset a caso, è improbabile che sia semplice\n",
    "\n",
    "* if a simple rule set is in the version space, then it is more probable that it is the correct one. (a posteriori)"
   ],
   "metadata": {
    "collapsed": false
   }
  },
  {
   "cell_type": "markdown",
   "metadata": {},
   "source": [
    "## Uniform and weighted sampling\n",
    "\n",
    "Here we implement the uniform sampling from the version space.\n",
    "\n",
    "$$P(h) = \\frac{1}{|VS|}$$\n",
    "\n",
    "We also implement the weighted sampling, where the probability of a ruleset is proportional to the length of the ruleset, i.e., the number of ORs.\n",
    "\n",
    "$$P(h) = \\frac{e^{-\\beta \\ell(h)}}{\\sum_{h' \\in VS} e^{-\\beta \\ell(h')}}$$\n",
    "\n",
    "We calculate the accuracy exactly, that is, in expectation w.r.t. the sampling process."
   ]
  },
  {
   "cell_type": "code",
   "execution_count": 276,
   "outputs": [],
   "source": [
    "from sklearn.metrics import accuracy_score\n",
    "\n",
    "\n",
    "def exact_uniform_bo(VS, X_test, y_test):\n",
    "    y_pred = np.array([sum([(2 * any([r.covers(x) for r in h]) - 1) * (1 / len(VS)) for h in VS]) >= 0 for x in X_test])\n",
    "    return accuracy_score(y_pred, y_test)"
   ],
   "metadata": {
    "collapsed": false
   }
  },
  {
   "cell_type": "code",
   "execution_count": 277,
   "outputs": [
    {
     "name": "stdout",
     "output_type": "stream",
     "text": [
      "1.0\n"
     ]
    }
   ],
   "source": [
    "# print(exact_uniform_bp(VS, X_train, y_train))\n",
    "print(exact_uniform_bo(VS, X_test, y_test))"
   ],
   "metadata": {
    "collapsed": false
   }
  },
  {
   "cell_type": "code",
   "execution_count": 278,
   "outputs": [],
   "source": [
    "from sklearn.metrics import accuracy_score\n",
    "\n",
    "\n",
    "def exact_weighted_bo(VS, X_test, y_test, beta=1):\n",
    "    y_pred = np.array(\n",
    "        [sum([(2 * any([r.covers(x) for r in h]) - 1) * np.exp(-beta * len(h)) for h in VS]) >= 0 for x in X_test])\n",
    "    return accuracy_score(y_pred, y_test)"
   ],
   "metadata": {
    "collapsed": false
   }
  },
  {
   "cell_type": "code",
   "execution_count": 279,
   "outputs": [
    {
     "name": "stdout",
     "output_type": "stream",
     "text": [
      "1.0\n"
     ]
    }
   ],
   "source": [
    "print(exact_weighted_bo(VS, X_test, y_test, beta=10))"
   ],
   "metadata": {
    "collapsed": false
   }
  },
  {
   "cell_type": "markdown",
   "source": [
    "# Experiment 1\n",
    "Firstly, let's see what happens by starting from a dataset X. We progressively increase the number of available training examples.\n"
   ],
   "metadata": {
    "collapsed": false
   }
  },
  {
   "cell_type": "code",
   "execution_count": 232,
   "outputs": [],
   "source": [
    "def get_X_y(X, y, seed=0, size=0.5):\n",
    "    np.random.seed(seed)\n",
    "    idx = np.random.permutation(len(X))\n",
    "    X_perm = X[idx]\n",
    "    y_perm = y[idx]\n",
    "\n",
    "    X_train = X_perm[:int(size * len(X_perm))]\n",
    "    y_train = y_perm[:int(size * len(X_perm))]\n",
    "    X_test = X_perm[int(size * len(X_perm)):]\n",
    "    y_test = y_perm[int(size * len(X_perm)):]\n",
    "    return X_train, X_test, y_train, y_test"
   ],
   "metadata": {
    "collapsed": false
   }
  },
  {
   "cell_type": "code",
   "execution_count": 281,
   "outputs": [
    {
     "name": "stderr",
     "output_type": "stream",
     "text": [
      "100%|██████████| 134137/134137 [00:04<00:00, 29819.65it/s]\n"
     ]
    }
   ],
   "source": [
    "acc_bo = []\n",
    "betas = [0.1, 0.3, 1, 3, 10, 30, 100, 300, 1000]\n",
    "acc_wbo = {beta: [] for beta in betas}\n",
    "\n",
    "tr_sizes = [0.1, 0.12, 0.14, 0.16, 0.18, 0.2, 0.22, 0.24, 0.26, 0.28, 0.3, 0.32, 0.34, 0.36, 0.38, 0.4]\n",
    "seed = 1\n",
    "\n",
    "\n",
    "for training_size in tr_sizes:\n",
    "    X_train, X_test, y_train, y_test = get_X_y(X, y, seed=seed, size=training_size)\n",
    "\n",
    "    VS = generate_version_space(X_train, y_train, full_rule_space, k=3)\n",
    "    bo_acc = exact_uniform_bo(VS, X_test, y_test)\n",
    "    acc_bo.append(bo_acc)\n",
    "\n",
    "    for beta in betas:\n",
    "        wbo_acc = exact_weighted_bo(VS, X_test, y_test, beta=beta)\n",
    "        acc_wbo[beta].append(wbo_acc)\n"
   ],
   "metadata": {
    "collapsed": false
   }
  },
  {
   "cell_type": "code",
   "execution_count": 285,
   "outputs": [
    {
     "data": {
      "text/plain": "<matplotlib.legend.Legend at 0x16dbe1a80>"
     },
     "execution_count": 285,
     "metadata": {},
     "output_type": "execute_result"
    },
    {
     "data": {
      "text/plain": "<Figure size 1000x600 with 1 Axes>",
      "image/png": "[encoded data removed]"
     },
     "metadata": {},
     "output_type": "display_data"
    }
   ],
   "source": [
    "from matplotlib import pyplot as plt\n",
    "\n",
    "plt.figure(figsize=(10, 6))\n",
    "\n",
    "plt.plot(tr_sizes, acc_bo, label='BO')\n",
    "for beta in [0.3, 1, 3]:\n",
    "    plt.plot(tr_sizes, acc_wbo[beta], label=f'WBO, beta={beta}')\n",
    "plt.legend()"
   ],
   "metadata": {
    "collapsed": false
   }
  },
  {
   "cell_type": "markdown",
   "source": [
    "# Experiment 2\n",
    "Here we show what happens if we repeat the experiment above multiple times, and we average the results.\n"
   ],
   "metadata": {
    "collapsed": false
   }
  },
  {
   "cell_type": "code",
   "execution_count": 256,
   "outputs": [
    {
     "name": "stderr",
     "output_type": "stream",
     "text": [
      "100%|██████████| 267033/267033 [00:08<00:00, 33067.25it/s]\n",
      "100%|██████████| 134137/134137 [00:04<00:00, 30781.06it/s]\n",
      "100%|██████████| 134137/134137 [00:04<00:00, 30503.92it/s]\n",
      "100%|██████████| 129858/129858 [00:04<00:00, 30426.32it/s]\n",
      "100%|██████████| 228031/228031 [00:07<00:00, 32146.62it/s]\n"
     ]
    }
   ],
   "source": [
    "mean_acc_bo = []\n",
    "std_acc_bo = []\n",
    "betas = [0.1, 0.3, 1, 3, 10]\n",
    "mean_acc_wbo = {beta: ([], []) for beta in betas}\n",
    "\n",
    "tr_sizes = [0.1, 0.15, 0.2, 0.25, 0.3]\n",
    "\n",
    "for training_size in tr_sizes:\n",
    "    all_acc_bo = []\n",
    "    all_acc_wbo = {beta: [] for beta in betas}\n",
    "    for seed in range(20):\n",
    "        X_train, X_test, y_train, y_test = get_X_y(X, y, seed=seed, size=training_size)\n",
    "        VS = generate_version_space(X_train, y_train, full_rule_space, k=3)\n",
    "        bo_acc = exact_uniform_bo(VS, X_test, y_test)\n",
    "        all_acc_bo.append(bo_acc)\n",
    "        for beta in betas:\n",
    "            wbo_acc = exact_weighted_bo(VS, X_test, y_test, beta=beta)\n",
    "            all_acc_wbo[beta].append(wbo_acc)\n",
    "\n",
    "    mean_acc_bo.append(np.mean(all_acc_bo))\n",
    "    std_acc_bo.append(np.std(all_acc_bo))\n",
    "\n",
    "    for beta in betas:\n",
    "        mean_acc_wbo[beta][0].append(np.mean(all_acc_wbo[beta]))\n",
    "        mean_acc_wbo[beta][1].append(np.std(all_acc_wbo[beta]))\n"
   ],
   "metadata": {
    "collapsed": false
   }
  },
  {
   "cell_type": "code",
   "execution_count": 258,
   "outputs": [
    {
     "name": "stdout",
     "output_type": "stream",
     "text": [
      "[BO] TR=0.1 0.9177489177489179 +- 0.03761503722290642 (N=20)\n",
      "[BO] TR=0.15 0.9706422018348624 +- 0.037362096686783905 (N=20)\n",
      "[BO] TR=0.2 0.9860975609756097 +- 0.037509467375212886 (N=20)\n",
      "[BO] TR=0.25 1.0 +- 0.0 (N=20)\n",
      "[BO] TR=0.3 1.0 +- 0.0 (N=20)\n",
      "[wBO, beta=3] TR=0.1 0.9158008658008658 +- 0.03959264381423423 (N=20)\n",
      "[wBO, beta=3] TR=0.15 0.9722477064220184 +- 0.03598725447487402 (N=20)\n",
      "[wBO, beta=3] TR=0.2 0.9887804878048779 +- 0.02882179755458038 (N=20)\n",
      "[wBO, beta=3] TR=0.25 1.0 +- 0.0 (N=20)\n",
      "[wBO, beta=3] TR=0.3 1.0 +- 0.0 (N=20)\n"
     ]
    },
    {
     "data": {
      "text/plain": "<matplotlib.legend.Legend at 0x16d0e53f0>"
     },
     "execution_count": 258,
     "metadata": {},
     "output_type": "execute_result"
    },
    {
     "data": {
      "text/plain": "<Figure size 1000x600 with 1 Axes>",
      "image/png": "[encoded data removed]"
     },
     "metadata": {},
     "output_type": "display_data"
    }
   ],
   "source": [
    "from matplotlib import pyplot as plt\n",
    "\n",
    "plt.figure(figsize=(10, 6))\n",
    "\n",
    "# plot with stds\n",
    "plt.errorbar(tr_sizes, mean_acc_bo, yerr=std_acc_bo, label=\"BO\", capsize=5, capthick=2, elinewidth=2)\n",
    "for tr_size, mu, std in zip(tr_sizes, mean_acc_bo, std_acc_bo):\n",
    "    print(f\"[BO] TR={tr_size} {mu} +- {std} (N={len(all_acc_bo)})\")\n",
    "for beta in [3]:\n",
    "    plt.errorbar(tr_sizes, mean_acc_wbo[beta][0], yerr=mean_acc_wbo[beta][1], label=\"WBO (beta={})\".format(beta), capsize=5, capthick=2, elinewidth=2)\n",
    "    for tr_size, mu, std in zip(tr_sizes, mean_acc_wbo[beta][0], mean_acc_wbo[beta][1]):\n",
    "        print(f\"[wBO, beta={beta}] TR={tr_size} {mu} +- {std} (N={len(all_acc_bo)})\")\n",
    "plt.legend()"
   ],
   "metadata": {
    "collapsed": false
   }
  },
  {
   "cell_type": "markdown",
   "source": [
    "$$p(h) = \\sum_z p(h,z) p(z)$$\n",
    "\n",
    "sampling di 100 esempi; valutiamo probabilità di h su questi 100 esempi.\n",
    "\n",
    "prendi tanti sottoinsiemi di 100 esempi, vedi quanto spesso viene fuori h.\n",
    "\n",
    "data una qualsiasi tabella di verità, hai un numero esponenziale di possibili tasks. 2^(2^d) = M tabelle di verità su d features.\n",
    "\n",
    "data una tabella di verità qualsiasi, ogni ipotesi/ruleset può essere vero o falso con probabilità 0.5.\n",
    "\n",
    "fissato un task/tabella di verità, hai un numero di ipotesi che verificano il task che è il 50% del totale (molte complesse).\n",
    "\n",
    "e.g, x1 -> y, x1 -> not y.\n",
    "\n",
    "x1 and x2 -> y ;\n",
    "\n",
    "00 ?\n",
    "01 ?\n",
    "10 ?\n",
    "11 1\n",
    "\n",
    "se esegui find-rs, vedi che quelli che prende sono sempre alcune (non quelle più complesse...).\n",
    "\n",
    "se invece andassi a prendere una qualsiasi...\n",
    "\n",
    "task qualsiasi => find-rs => dnf\n",
    "vs => dnf\n",
    "\n",
    "ti aspetti che find-rs ne trovi una più semplice rispetto a uniforme.\n",
    "\n",
    "find-rs troverà una semplice del vs.\n",
    "\n",
    "sarebbe carino e scoprire che find-rs ha un bias migliore, magari...\n",
    "\n",
    "ci sarà un iperparametro per non accettare assolutamente errori?\n",
    "\n",
    "p(h) => prior su ipotesi semplici\n",
    "p(D|h) = 0 quando h non è consistente con D, unif altr.\n"
   ],
   "metadata": {
    "collapsed": false
   }
  },
  {
   "cell_type": "markdown",
   "source": [
    "I'm not sure on how to interpret the results.\n",
    "\n",
    "* On one hand, we say that the Bayes Optimal Classifier should outperform every other classifier on average.\n",
    "* On the other hand, it seems that the weighted version space sampling outperforms the uniform one on tr_size>0.1.\n",
    "\n",
    "My question is: what exactly means \"on average\"?\n",
    "\n",
    "on average means considering all the possible training sets? Hence, we are biased towards solving better the easy training sets and worse the hard ones?"
   ],
   "metadata": {
    "collapsed": false
   }
  },
  {
   "cell_type": "code",
   "execution_count": 40,
   "outputs": [
    {
     "data": {
      "text/plain": "0.6302083333333333"
     },
     "execution_count": 40,
     "metadata": {},
     "output_type": "execute_result"
    }
   ],
   "source": [
    "1 - y_test.mean()"
   ],
   "metadata": {
    "collapsed": false
   }
  },
  {
   "cell_type": "markdown",
   "source": [
    "# Old code\n",
    "\n",
    "Here the strategies were implemented using sampling."
   ],
   "metadata": {
    "collapsed": false
   }
  },
  {
   "cell_type": "code",
   "execution_count": 105,
   "metadata": {},
   "outputs": [],
   "source": [
    "import random\n",
    "from sklearn.metrics import accuracy_score\n",
    "\n",
    "\n",
    "def uniform_bp(T=3, iters=10000, return_sample=False):\n",
    "    accuracies = []\n",
    "    for i in range(iters):\n",
    "        # sample from VS\n",
    "        uniform_sample = random.choices(list(VS), k=T)\n",
    "        y_pred = np.array([sum([any([r.covers(x) for r in h]) for h in uniform_sample]) >= T // 2 for x in X_test])\n",
    "\n",
    "        acc = accuracy_score(y_pred, y_test)\n",
    "        accuracies.append(acc)\n",
    "    print(\"(beta={}, unif) {} +- {} (N={})\".format(0, np.mean(accuracies), np.std(accuracies), iters))\n",
    "    if return_sample:\n",
    "        return uniform_sample\n",
    "    return np.mean(accuracies), np.std(accuracies)"
   ]
  },
  {
   "cell_type": "code",
   "execution_count": 106,
   "metadata": {},
   "outputs": [],
   "source": [
    "def weighted_bp(T=3, beta=10, iters=10000, return_sample=False):\n",
    "    accuracies = []\n",
    "    for i in range(iters):\n",
    "        p = np.array([np.exp(-beta * len(h)) for h in VS])\n",
    "        p = p / sum(p)\n",
    "        weighted_sample = random.choices(list(VS), k=T, weights=p)\n",
    "        y_pred = np.array([sum([any([r.covers(x) for r in h]) for h in weighted_sample]) >= T // 2 for x in X_test])\n",
    "\n",
    "        acc = accuracy_score(y_pred, y_test)\n",
    "        accuracies.append(acc)\n",
    "    print(\"(beta={}) {} +- {} (N={})\".format(beta, np.mean(accuracies), np.std(accuracies), iters))\n",
    "    if return_sample:\n",
    "        return weighted_sample\n",
    "    return np.mean(accuracies), np.std(accuracies)"
   ]
  },
  {
   "cell_type": "markdown",
   "metadata": {},
   "source": [
    "Using uniform sampling, we can see many spurious rules."
   ]
  },
  {
   "cell_type": "markdown",
   "source": [
    "246 dnf\n",
    "nella versione uniform, calcoli per ogni dnf +1/-1 sul test per ogni esempio."
   ],
   "metadata": {
    "collapsed": false
   }
  },
  {
   "cell_type": "code",
   "execution_count": 107,
   "metadata": {},
   "outputs": [
    {
     "name": "stdout",
     "output_type": "stream",
     "text": [
      "(beta=0, unif) 0.6816277056277057 +- 0.06451614712327404 (N=10000)\n"
     ]
    },
    {
     "data": {
      "text/plain": "[(X[1] == 1 ^ X[2] == 1,\n  X[0] == 0 ^ X[1] == 1,\n  X[1] == 1 ^ X[4] == 0 ^ X[6] == 1),\n (X[0] == 0 ^ X[6] == 1 ^ X[7] == 1,\n  X[0] == 0 ^ X[1] == 1 ^ X[2] == 0,\n  X[1] == 1 ^ X[2] == 1 ^ X[3] == 0),\n (X[0] == 0 ^ X[5] == 1 ^ X[6] == 1,\n  X[0] == 0 ^ X[1] == 1,\n  X[1] == 1 ^ X[2] == 1 ^ X[3] == 0)]"
     },
     "execution_count": 107,
     "metadata": {},
     "output_type": "execute_result"
    }
   ],
   "source": [
    "for t in [10, 20, 50, 100, 300, 1000]:\n",
    "    uniform_bp(T=t, return_sample=True)"
   ]
  },
  {
   "cell_type": "markdown",
   "metadata": {},
   "source": [
    "Using weighted sampling, we get a much better result."
   ]
  },
  {
   "cell_type": "code",
   "execution_count": 108,
   "metadata": {},
   "outputs": [
    {
     "name": "stdout",
     "output_type": "stream",
     "text": [
      "(beta=10) 0.7442311688311689 +- 0.07590550519911578 (N=10000)\n"
     ]
    },
    {
     "data": {
      "text/plain": "[(X[0] == 1 ^ X[2] == 1 ^ X[7] == 1, X[0] == 0 ^ X[1] == 1),\n (X[0] == 1 ^ X[2] == 1 ^ X[3] == 0, X[0] == 0 ^ X[1] == 1),\n (X[0] == 0 ^ X[1] == 1, X[1] == 1 ^ X[2] == 1 ^ X[3] == 0)]"
     },
     "execution_count": 108,
     "metadata": {},
     "output_type": "execute_result"
    }
   ],
   "source": [
    "weighted_bp(T=3, return_sample=True)"
   ]
  },
  {
   "cell_type": "code",
   "execution_count": 114,
   "outputs": [
    {
     "name": "stdout",
     "output_type": "stream",
     "text": [
      "(beta=5) 0.7283766233766233 +- 0.07834899584920114 (N=1000)\n",
      "(beta=5) 0.7133593073593073 +- 0.07411025353471022 (N=1000)\n",
      "(beta=5) 0.753939393939394 +- 0.06417950034444651 (N=1000)\n",
      "(beta=5) 0.7475584415584415 +- 0.06249880027333748 (N=1000)\n",
      "(beta=5) 0.7583333333333333 +- 0.05575958813689897 (N=1000)\n",
      "(beta=5) 0.7528268398268398 +- 0.05473059882328468 (N=1000)\n",
      "(beta=5) 0.7576103896103896 +- 0.051963189713604446 (N=1000)\n",
      "(beta=5) 0.7533463203463203 +- 0.048966085569791935 (N=1000)\n",
      "(beta=5) 0.753974025974026 +- 0.04576430753988976 (N=1000)\n"
     ]
    }
   ],
   "source": [
    "for t in range(2, 11):\n",
    "    weighted_bp(T=t, iters=1000, beta=5)"
   ],
   "metadata": {
    "collapsed": false
   }
  },
  {
   "cell_type": "code",
   "execution_count": 112,
   "outputs": [
    {
     "name": "stdout",
     "output_type": "stream",
     "text": [
      "(beta=5) 0.7561688311688312 +- 0.04434628632787227 (N=1000)\n",
      "(beta=5) 0.7508528138528138 +- 0.03943843902137128 (N=1000)\n",
      "(beta=5) 0.7422294372294372 +- 0.031211483262869388 (N=1000)\n",
      "(beta=5) 0.7380692640692641 +- 0.027666356095609662 (N=1000)\n",
      "(beta=5) 0.7290346320346319 +- 0.018555907802117237 (N=1000)\n",
      "(beta=5) 0.7230173160173159 +- 0.008887342564287009 (N=1000)\n"
     ]
    }
   ],
   "source": [
    "for t in [10, 20, 50, 100, 300, 1000]:\n",
    "    weighted_bp(T=t, iters=1000, beta=5)"
   ],
   "metadata": {
    "collapsed": false
   }
  },
  {
   "cell_type": "markdown",
   "metadata": {},
   "source": [
    "The results confirm our hypothesis. Using the uniform sampling we already get really good results, but they are further improved by using the weighted sampling."
   ]
  },
  {
   "cell_type": "code",
   "execution_count": 91,
   "metadata": {},
   "outputs": [
    {
     "name": "stdout",
     "output_type": "stream",
     "text": [
      "(beta=0, unif) 0.9985 +- 0.008529361054615995 (N=1000)\n",
      "(beta=0, unif) 0.99802 +- 0.010113337727970927 (N=1000)\n",
      "(beta=0, unif) 0.99998 +- 0.000446766158073774 (N=1000)\n",
      "(beta=0, unif) 0.99997 +- 0.0005469003565550131 (N=1000)\n",
      "(beta=5) 0.9991500000000001 +- 0.00646355165524343 (N=1000)\n",
      "(beta=5) 0.9991 +- 0.006647555941848108 (N=1000)\n",
      "(beta=5) 1.0 +- 0.0 (N=1000)\n",
      "(beta=5) 1.0 +- 0.0 (N=1000)\n"
     ]
    },
    {
     "data": {
      "text/plain": "<Figure size 640x480 with 1 Axes>",
      "image/png": "[encoded data removed]"
     },
     "metadata": {},
     "output_type": "display_data"
    }
   ],
   "source": [
    "# create a plot with std error bars\n",
    "\n",
    "import matplotlib.pyplot as plt\n",
    "\n",
    "\n",
    "def plot_results(results, title):\n",
    "    means = [r[0] for r in results]\n",
    "    stds = [r[1] for r in results]\n",
    "    plt.errorbar(range(1, len(means) + 1), np.array(means), yerr=stds, fmt='o', label=title)\n",
    "\n",
    "\n",
    "# set y scale to log\n",
    "# plt.yscale('log')\n",
    "plot_results([uniform_bp(t, iters=1000) for t in range(2, 6)], \"Uniform BP\")\n",
    "plot_results([weighted_bp(t, iters=1000, beta=5) for t in range(2, 6)], \"Weighted BP\")\n",
    "plt.title('comparison')\n",
    "plt.xlabel(\"T\")\n",
    "plt.ylabel(\"Accuracy\")\n",
    "plt.legend()\n",
    "plt.show()\n"
   ]
  },
  {
   "cell_type": "markdown",
   "source": [
    "D1 = [...]\n",
    "D2 = D1 or x3=0\n",
    "D3 = D1 or x3=1\n",
    "\n",
    "guarda cambiando il numero di esempi. con pochi esempi cosa succede?\n",
    "\n",
    "quando hai più esempi di training, puoi usare un beta più grande.\n",
    "quando hai pochi esempi, beta più piccolo è meglio."
   ],
   "metadata": {
    "collapsed": false
   }
  },
  {
   "cell_type": "code",
   "execution_count": null,
   "metadata": {},
   "outputs": [],
   "source": []
  }
 ],
 "metadata": {
  "kernelspec": {
   "display_name": "Python 3 (ipykernel)",
   "language": "python",
   "name": "python3"
  },
  "language_info": {
   "codemirror_mode": {
    "name": "ipython",
    "version": 3
   },
   "file_extension": ".py",
   "mimetype": "text/x-python",
   "name": "python",
   "nbconvert_exporter": "python",
   "pygments_lexer": "ipython3",
   "version": "3.10.10"
  }
 },
 "nbformat": 4,
 "nbformat_minor": 1
}
