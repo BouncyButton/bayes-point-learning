{
 "cells": [
  {
   "cell_type": "code",
   "execution_count": 1,
   "outputs": [
    {
     "data": {
      "text/plain": "'/Users/berga/miniconda3/envs/corels10/bin/python'"
     },
     "execution_count": 1,
     "metadata": {},
     "output_type": "execute_result"
    }
   ],
   "source": [
    "import sys\n",
    "sys.executable"
   ],
   "metadata": {
    "collapsed": false
   }
  },
  {
   "cell_type": "code",
   "execution_count": 2,
   "metadata": {
    "collapsed": true
   },
   "outputs": [],
   "source": [
    "import corels"
   ]
  },
  {
   "cell_type": "code",
   "execution_count": 1,
   "outputs": [
    {
     "name": "stdout",
     "output_type": "stream",
     "text": [
      "RULELIST:\n",
      "if [not Likes Pie && not Age < 20]:\n",
      "  Has a dirty computer = False\n",
      "else if [Mac User && Likes Pie]:\n",
      "  Has a dirty computer = False\n",
      "else \n",
      "  Has a dirty computer = True\n",
      "[ True False False  True]\n"
     ]
    }
   ],
   "source": [
    "from corels import CorelsClassifier\n",
    "\n",
    "# [\"loud\", \"samples\"] is the most verbose setting possible\n",
    "C = CorelsClassifier(max_card=2, c=0.0, verbosity=[\"loud\", \"samples\"])\n",
    "\n",
    "# 4 samples, 3 features\n",
    "X = [[1, 0, 1], [0, 0, 0], [1, 1, 0], [0, 1, 0]]\n",
    "y = [1, 0, 0, 1]\n",
    "# Feature names\n",
    "features = [\"Mac User\", \"Likes Pie\", \"Age < 20\"]\n",
    "\n",
    "# Fit the model\n",
    "C.fit(X, y, features=features, prediction_name=\"Has a dirty computer\")\n",
    "\n",
    "# Print the resulting rulelist\n",
    "print(C.rl())\n",
    "\n",
    "# Predict on the training set\n",
    "print(C.predict(X))\n"
   ],
   "metadata": {
    "collapsed": false
   }
  },
  {
   "cell_type": "code",
   "execution_count": 7,
   "outputs": [
    {
     "name": "stdout",
     "output_type": "stream",
     "text": [
      "RULELIST:\n",
      "if [not feature2 && not feature25]:\n",
      "  prediction = False\n",
      "else \n",
      "  prediction = True\n",
      "0.6609370668145274\n"
     ]
    }
   ],
   "source": [
    "from corels import *\n",
    "\n",
    "# Load the dataset\n",
    "X, y, _, _ = load_from_csv(\"../bpllib/dataset/compas.csv\")\n",
    "\n",
    "# Create the model, with 10000 as the maximum number of iterations\n",
    "c = CorelsClassifier(n_iter=10000)\n",
    "\n",
    "# Fit, and score the model on the training set\n",
    "a = c.fit(X, y).score(X, y)\n",
    "\n",
    "# Print the model's accuracy on the training set\n",
    "print(a)"
   ],
   "metadata": {
    "collapsed": false
   }
  },
  {
   "cell_type": "code",
   "execution_count": 15,
   "outputs": [
    {
     "name": "stdout",
     "output_type": "stream",
     "text": [
      "RULELIST:\n",
      "if [not feature9 && not feature15 && not feature21]:\n",
      "  prediction = False\n",
      "else if [not feature3 && not feature15 && not feature27]:\n",
      "  prediction = False\n",
      "else \n",
      "  prediction = True\n"
     ]
    },
    {
     "data": {
      "text/plain": "0.8229166666666666"
     },
     "execution_count": 15,
     "metadata": {},
     "output_type": "execute_result"
    }
   ],
   "source": [
    "from sklearn.model_selection import train_test_split\n",
    "from sklearn.preprocessing import OneHotEncoder\n",
    "import pandas as pd\n",
    "from bpllib import get_dataset\n",
    "\n",
    "# Load the dataset\n",
    "\n",
    "X, y = get_dataset(\"TTT\")\n",
    "\n",
    "enc = OneHotEncoder(handle_unknown='ignore')\n",
    "X = enc.fit_transform(X).toarray()\n",
    "\n",
    "X_train, X_test, y_train, y_test = train_test_split(X, y, test_size=0.2, random_state=42)\n",
    "\n",
    "# Create the model, with 10000 as the maximum number of iterations\n",
    "c = CorelsClassifier(n_iter=1000000, max_card=3, c=0.0001)\n",
    "\n",
    "# Fit, and score the model on the training set\n",
    "c.fit(X_train, y_train)\n",
    "\n",
    "from sklearn.metrics import accuracy_score\n",
    "\n",
    "accuracy_score(y_test, c.predict(X_test))"
   ],
   "metadata": {
    "collapsed": false
   }
  },
  {
   "cell_type": "code",
   "execution_count": null,
   "outputs": [],
   "source": [],
   "metadata": {
    "collapsed": false
   }
  }
 ],
 "metadata": {
  "kernelspec": {
   "display_name": "Python 3",
   "language": "python",
   "name": "python3"
  },
  "language_info": {
   "codemirror_mode": {
    "name": "ipython",
    "version": 2
   },
   "file_extension": ".py",
   "mimetype": "text/x-python",
   "name": "python",
   "nbconvert_exporter": "python",
   "pygments_lexer": "ipython2",
   "version": "2.7.6"
  }
 },
 "nbformat": 4,
 "nbformat_minor": 0
}
